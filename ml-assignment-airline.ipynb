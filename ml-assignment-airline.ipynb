{
  "cells": [
    {
      "cell_type": "markdown",
      "metadata": {
        "id": "6JqRhECwyqFG"
      },
      "source": [
        "# Machine Learning Assignment\n",
        "\n",
        "**Dataset**:       AIRLINE SATISFACTION\n",
        "\n",
        "**Student ID**:  s5520346  \n",
        "\n",
        "**Student Name**:  Alex Poulter"
      ]
    },
    {
      "cell_type": "markdown",
      "metadata": {
        "id": "bv2VSHD_yqFK"
      },
      "source": [
        "## Imports\n",
        "\n",
        "Add imports here as needed.\n",
        "\n",
        "Remember to **re-run the cell when you add imports**, so it gets loaded into the virtual notebook environment!"
      ]
    },
    {
      "cell_type": "code",
      "execution_count": 130,
      "metadata": {
        "ExecuteTime": {
          "end_time": "2023-07-04T15:47:13.909935Z",
          "start_time": "2023-07-04T15:47:12.383188Z"
        },
        "id": "St2__tSyyqFL"
      },
      "outputs": [],
      "source": [
        "# Data and Datasets\n",
        "import pandas as pd\n",
        "from sklearn.datasets import load_iris\n",
        "from sklearn.datasets import load_wine\n",
        "from sklearn.preprocessing import StandardScaler\n",
        "\n",
        "# Clustering\n",
        "from sklearn.cluster import DBSCAN\n",
        "\n",
        "# Imputation\n",
        "from sklearn.impute import KNNImputer\n",
        "\n",
        "# Validation methods\n",
        "from sklearn.model_selection import train_test_split\n",
        "from sklearn.model_selection import cross_val_score\n",
        "from sklearn.model_selection import cross_validate\n",
        "from sklearn.model_selection import StratifiedKFold\n",
        "\n",
        "# Metrics\n",
        "from sklearn import metrics\n",
        "from sklearn.metrics import make_scorer\n",
        "from sklearn.metrics import accuracy_score\n",
        "from sklearn.metrics import precision_score\n",
        "from sklearn.metrics import recall_score\n",
        "\n",
        "# Classifiers\n",
        "from sklearn.linear_model import LogisticRegression\n",
        "from sklearn import tree\n",
        "from sklearn.tree import DecisionTreeClassifier\n",
        "from sklearn.ensemble import RandomForestClassifier\n",
        "from sklearn.naive_bayes import GaussianNB\n",
        "from sklearn.naive_bayes import MultinomialNB\n",
        "from sklearn.naive_bayes import BernoulliNB\n",
        "from sklearn.neighbors import KNeighborsClassifier\n",
        "\n",
        "# Hyper-parameter optimisation\n",
        "from sklearn.model_selection import GridSearchCV\n",
        "from sklearn.model_selection import RandomizedSearchCV\n",
        "\n",
        "# Feature selection & feature engineering\n",
        "from sklearn.feature_selection import RFE\n",
        "from sklearn.feature_selection import RFECV\n",
        "from sklearn.decomposition import PCA\n",
        "\n",
        "# Stats\n",
        "from scipy.stats import randint as sp_randint\n",
        "from scipy.stats import pearsonr\n",
        "from scipy.stats import spearmanr\n",
        "from scipy.stats import shapiro     # Shapiro Wilk\n",
        "from scipy.stats import normaltest  # D’Agostino’s K^2\n",
        "from scipy.stats import anderson    # Anderson-Darling\n",
        "from scipy.stats import ttest_ind    # independent student t-test; assumes normality\n",
        "from scipy.stats import mannwhitneyu # non-parametric; doesn't assume normality\n",
        "\n",
        "# Visualisation\n",
        "import matplotlib.pyplot as plt\n",
        "import seaborn as sns\n",
        "from IPython.display import SVG\n",
        "from graphviz import Source\n",
        "from IPython.display import display\n",
        "from sklearn.tree import export_graphviz\n",
        "\n",
        "# Utils\n",
        "import pprint\n",
        "import numpy as np\n",
        "from time import time\n",
        "import openpyxl"
      ]
    },
    {
      "cell_type": "code",
      "source": [
        "from google.colab import drive\n",
        "drive.mount('/content/drive')"
      ],
      "metadata": {
        "colab": {
          "base_uri": "https://localhost:8080/"
        },
        "id": "GnsOwnrAM76O",
        "outputId": "031dde1b-d24b-4637-9254-91ce4d556bf2"
      },
      "execution_count": 2,
      "outputs": [
        {
          "output_type": "stream",
          "name": "stdout",
          "text": [
            "Drive already mounted at /content/drive; to attempt to forcibly remount, call drive.mount(\"/content/drive\", force_remount=True).\n"
          ]
        }
      ]
    },
    {
      "cell_type": "markdown",
      "metadata": {
        "id": "enaSBYjkyqFN"
      },
      "source": [
        "## Loading the dataset"
      ]
    },
    {
      "cell_type": "code",
      "execution_count": 331,
      "metadata": {
        "ExecuteTime": {
          "end_time": "2023-07-04T15:47:13.944669Z",
          "start_time": "2023-07-04T15:47:13.911885Z"
        },
        "id": "jpJdIxKyyqFN",
        "outputId": "8418a002-38bd-4596-8e7c-6156801ca8c5",
        "colab": {
          "base_uri": "https://localhost:8080/"
        }
      },
      "outputs": [
        {
          "output_type": "stream",
          "name": "stdout",
          "text": [
            "<class 'pandas.core.frame.DataFrame'>\n",
            "RangeIndex: 12988 entries, 0 to 12987\n",
            "Data columns (total 24 columns):\n",
            " #   Column                             Non-Null Count  Dtype  \n",
            "---  ------                             --------------  -----  \n",
            " 0   id                                 12988 non-null  int64  \n",
            " 1   gender                             12988 non-null  object \n",
            " 2   customer_type                      12988 non-null  object \n",
            " 3   age                                12987 non-null  float64\n",
            " 4   type_of_travel                     10016 non-null  object \n",
            " 5   travel_class                       8466 non-null   object \n",
            " 6   flight_distance                    12986 non-null  float64\n",
            " 7   inflight_wifi_service              8643 non-null   float64\n",
            " 8   departure_arrival_time_convenient  12988 non-null  int64  \n",
            " 9   ease_of_online_booking             12988 non-null  int64  \n",
            " 10  gate_location                      12988 non-null  int64  \n",
            " 11  food_and_drink                     12988 non-null  int64  \n",
            " 12  online_boarding                    8105 non-null   float64\n",
            " 13  seat_comfort                       12988 non-null  int64  \n",
            " 14  inflight_entertainment             8621 non-null   float64\n",
            " 15  on_board_service                   12988 non-null  int64  \n",
            " 16  leg_room_service                   12988 non-null  int64  \n",
            " 17  baggage_handling                   12988 non-null  int64  \n",
            " 18  checkin_service                    12988 non-null  int64  \n",
            " 19  inflight_service                   12988 non-null  int64  \n",
            " 20  cleanliness                        12988 non-null  int64  \n",
            " 21  departure_delay_in_minutes         10980 non-null  float64\n",
            " 22  arrival_delay_in_minutes           5770 non-null   float64\n",
            " 23  class                              12988 non-null  object \n",
            "dtypes: float64(7), int64(12), object(5)\n",
            "memory usage: 2.4+ MB\n",
            "None\n"
          ]
        }
      ],
      "source": [
        "import pandas as pd\n",
        "\n",
        "df = pd.read_csv('/content/drive/MyDrive/Colab Notebooks/data/airline-satisfaction.csv')\n",
        "df2 = pd.read_csv('/content/drive/MyDrive/Colab Notebooks/data/airline-satisfactionOG.csv')\n",
        "dftest = pd.read_csv('/content/drive/MyDrive/Colab Notebooks/data/airline-satisfactiontest.csv')\n",
        "\n",
        "# printing out dataset info\n",
        "print(df.info())"
      ]
    },
    {
      "cell_type": "markdown",
      "source": [
        "### describe"
      ],
      "metadata": {
        "id": "A5x8rmRCC_XA"
      }
    },
    {
      "cell_type": "code",
      "source": [
        "print(df.describe())"
      ],
      "metadata": {
        "id": "hUm1xTfUzx-6",
        "outputId": "7a1a5533-be0f-4178-e8d5-82c981b628c4",
        "colab": {
          "base_uri": "https://localhost:8080/"
        }
      },
      "execution_count": 187,
      "outputs": [
        {
          "output_type": "stream",
          "name": "stdout",
          "text": [
            "                  id           age  flight_distance  inflight_wifi_service  \\\n",
            "count   12471.000000  12471.000000     12471.000000           12471.000000   \n",
            "mean    65648.357950     39.473499      1208.763531               2.721225   \n",
            "std     37747.560165     15.197827      1004.935709               1.142278   \n",
            "min        16.000000      7.000000        56.000000               0.000000   \n",
            "25%     32919.500000     27.000000       416.000000               2.000000   \n",
            "50%     66027.000000     40.000000       852.000000               2.800000   \n",
            "75%     98795.500000     51.000000      1773.000000               3.400000   \n",
            "max    129865.000000     85.000000      4983.000000               5.000000   \n",
            "\n",
            "       departure_arrival_time_convenient  ease_of_online_booking  \\\n",
            "count                       12471.000000            12471.000000   \n",
            "mean                            3.036485                2.739636   \n",
            "std                             1.532340                1.395364   \n",
            "min                             0.000000                0.000000   \n",
            "25%                             2.000000                2.000000   \n",
            "50%                             3.000000                3.000000   \n",
            "75%                             4.000000                4.000000   \n",
            "max                             5.000000                5.000000   \n",
            "\n",
            "       gate_location  food_and_drink  online_boarding  seat_comfort  ...  \\\n",
            "count   12471.000000    12471.000000     12471.000000  12471.000000  ...   \n",
            "mean        2.965440        3.224120         3.242338      3.438858  ...   \n",
            "std         1.286102        1.329168         1.153787      1.313343  ...   \n",
            "min         1.000000        0.000000         0.000000      1.000000  ...   \n",
            "25%         2.000000        2.000000         2.600000      2.000000  ...   \n",
            "50%         3.000000        3.000000         3.200000      4.000000  ...   \n",
            "75%         4.000000        4.000000         4.000000      5.000000  ...   \n",
            "max         5.000000        5.000000         5.000000      5.000000  ...   \n",
            "\n",
            "       checkin_service  inflight_service   cleanliness  \\\n",
            "count     12471.000000      12471.000000  12471.000000   \n",
            "mean          3.300056          3.650469      3.289311   \n",
            "std           1.263680          1.166403      1.311908   \n",
            "min           1.000000          0.000000      0.000000   \n",
            "25%           3.000000          3.000000      2.000000   \n",
            "50%           3.000000          4.000000      3.000000   \n",
            "75%           4.000000          5.000000      4.000000   \n",
            "max           5.000000          5.000000      5.000000   \n",
            "\n",
            "       departure_delay_in_minutes  arrival_delay_in_minutes  class_encoded  \\\n",
            "count                12471.000000              12471.000000   12471.000000   \n",
            "mean                    11.834336                  6.516077       1.378879   \n",
            "std                     35.689685                 26.353951       0.590271   \n",
            "min                      0.000000                  0.000000       0.000000   \n",
            "25%                      0.000000                  0.000000       1.000000   \n",
            "50%                      0.000000                  0.000000       1.000000   \n",
            "75%                      7.000000                  0.000000       2.000000   \n",
            "max                   1017.000000                823.000000       2.000000   \n",
            "\n",
            "       gender_encoded  customer_type_encoded  type_of_travel_encoded  \\\n",
            "count    12471.000000           12471.000000            12471.000000   \n",
            "mean         0.499719               0.818940                0.658889   \n",
            "std          0.500020               0.385083                0.801508   \n",
            "min          0.000000               0.000000                0.000000   \n",
            "25%          0.000000               1.000000                0.000000   \n",
            "50%          0.000000               1.000000                0.000000   \n",
            "75%          1.000000               1.000000                1.000000   \n",
            "max          1.000000               1.000000                2.000000   \n",
            "\n",
            "       travel_class_encoded  \n",
            "count          12471.000000  \n",
            "mean               1.407265  \n",
            "std                1.220268  \n",
            "min                0.000000  \n",
            "25%                0.000000  \n",
            "50%                1.000000  \n",
            "75%                3.000000  \n",
            "max                3.000000  \n",
            "\n",
            "[8 rows x 24 columns]\n"
          ]
        }
      ]
    },
    {
      "cell_type": "code",
      "source": [
        "df.head()"
      ],
      "metadata": {
        "id": "NVBHNUup626a",
        "outputId": "5f98c46d-8fb6-44ee-b694-69790d2a0954",
        "colab": {
          "base_uri": "https://localhost:8080/",
          "height": 255
        }
      },
      "execution_count": 188,
      "outputs": [
        {
          "output_type": "execute_result",
          "data": {
            "text/plain": [
              "         id   age  flight_distance  inflight_wifi_service  \\\n",
              "0   69571.0  30.0           2586.0                    2.0   \n",
              "1   19953.0  66.0            315.0                    2.4   \n",
              "2    8913.0  39.0            510.0                    3.4   \n",
              "3    7655.0  21.0            767.0                    4.0   \n",
              "4  100573.0  53.0            486.0                    2.2   \n",
              "\n",
              "   departure_arrival_time_convenient  ease_of_online_booking  gate_location  \\\n",
              "0                                2.0                     2.0            4.0   \n",
              "1                                4.0                     3.0            1.0   \n",
              "2                                5.0                     5.0            1.0   \n",
              "3                                0.0                     4.0            3.0   \n",
              "4                                1.0                     1.0            1.0   \n",
              "\n",
              "   food_and_drink  online_boarding  seat_comfort  ...  checkin_service  \\\n",
              "0             2.0              4.0           4.0  ...              4.0   \n",
              "1             5.0              2.2           5.0  ...              4.0   \n",
              "2             4.0              5.0           4.0  ...              5.0   \n",
              "3             4.0              4.0           4.0  ...              3.0   \n",
              "4             5.0              4.0           4.0  ...              3.0   \n",
              "\n",
              "   inflight_service  cleanliness  departure_delay_in_minutes  \\\n",
              "0               2.0          4.0                         0.0   \n",
              "1               4.0          4.0                         0.0   \n",
              "2               4.0          4.0                         0.0   \n",
              "3               4.0          4.0                        15.0   \n",
              "4               5.0          4.0                         0.0   \n",
              "\n",
              "   arrival_delay_in_minutes  class_encoded  gender_encoded  \\\n",
              "0                       0.0            1.0             0.0   \n",
              "1                      26.0            1.0             0.0   \n",
              "2                       0.0            2.0             0.0   \n",
              "3                       0.0            2.0             0.0   \n",
              "4                       0.0            2.0             0.0   \n",
              "\n",
              "   customer_type_encoded  type_of_travel_encoded  travel_class_encoded  \n",
              "0                    0.0                     0.0                   3.0  \n",
              "1                    1.0                     1.0                   0.0  \n",
              "2                    0.0                     0.0                   1.0  \n",
              "3                    0.0                     0.0                   1.0  \n",
              "4                    1.0                     0.0                   3.0  \n",
              "\n",
              "[5 rows x 24 columns]"
            ],
            "text/html": [
              "\n",
              "  <div id=\"df-5c01d7ae-f461-4568-aabe-fb6c1edbca77\" class=\"colab-df-container\">\n",
              "    <div>\n",
              "<style scoped>\n",
              "    .dataframe tbody tr th:only-of-type {\n",
              "        vertical-align: middle;\n",
              "    }\n",
              "\n",
              "    .dataframe tbody tr th {\n",
              "        vertical-align: top;\n",
              "    }\n",
              "\n",
              "    .dataframe thead th {\n",
              "        text-align: right;\n",
              "    }\n",
              "</style>\n",
              "<table border=\"1\" class=\"dataframe\">\n",
              "  <thead>\n",
              "    <tr style=\"text-align: right;\">\n",
              "      <th></th>\n",
              "      <th>id</th>\n",
              "      <th>age</th>\n",
              "      <th>flight_distance</th>\n",
              "      <th>inflight_wifi_service</th>\n",
              "      <th>departure_arrival_time_convenient</th>\n",
              "      <th>ease_of_online_booking</th>\n",
              "      <th>gate_location</th>\n",
              "      <th>food_and_drink</th>\n",
              "      <th>online_boarding</th>\n",
              "      <th>seat_comfort</th>\n",
              "      <th>...</th>\n",
              "      <th>checkin_service</th>\n",
              "      <th>inflight_service</th>\n",
              "      <th>cleanliness</th>\n",
              "      <th>departure_delay_in_minutes</th>\n",
              "      <th>arrival_delay_in_minutes</th>\n",
              "      <th>class_encoded</th>\n",
              "      <th>gender_encoded</th>\n",
              "      <th>customer_type_encoded</th>\n",
              "      <th>type_of_travel_encoded</th>\n",
              "      <th>travel_class_encoded</th>\n",
              "    </tr>\n",
              "  </thead>\n",
              "  <tbody>\n",
              "    <tr>\n",
              "      <th>0</th>\n",
              "      <td>69571.0</td>\n",
              "      <td>30.0</td>\n",
              "      <td>2586.0</td>\n",
              "      <td>2.0</td>\n",
              "      <td>2.0</td>\n",
              "      <td>2.0</td>\n",
              "      <td>4.0</td>\n",
              "      <td>2.0</td>\n",
              "      <td>4.0</td>\n",
              "      <td>4.0</td>\n",
              "      <td>...</td>\n",
              "      <td>4.0</td>\n",
              "      <td>2.0</td>\n",
              "      <td>4.0</td>\n",
              "      <td>0.0</td>\n",
              "      <td>0.0</td>\n",
              "      <td>1.0</td>\n",
              "      <td>0.0</td>\n",
              "      <td>0.0</td>\n",
              "      <td>0.0</td>\n",
              "      <td>3.0</td>\n",
              "    </tr>\n",
              "    <tr>\n",
              "      <th>1</th>\n",
              "      <td>19953.0</td>\n",
              "      <td>66.0</td>\n",
              "      <td>315.0</td>\n",
              "      <td>2.4</td>\n",
              "      <td>4.0</td>\n",
              "      <td>3.0</td>\n",
              "      <td>1.0</td>\n",
              "      <td>5.0</td>\n",
              "      <td>2.2</td>\n",
              "      <td>5.0</td>\n",
              "      <td>...</td>\n",
              "      <td>4.0</td>\n",
              "      <td>4.0</td>\n",
              "      <td>4.0</td>\n",
              "      <td>0.0</td>\n",
              "      <td>26.0</td>\n",
              "      <td>1.0</td>\n",
              "      <td>0.0</td>\n",
              "      <td>1.0</td>\n",
              "      <td>1.0</td>\n",
              "      <td>0.0</td>\n",
              "    </tr>\n",
              "    <tr>\n",
              "      <th>2</th>\n",
              "      <td>8913.0</td>\n",
              "      <td>39.0</td>\n",
              "      <td>510.0</td>\n",
              "      <td>3.4</td>\n",
              "      <td>5.0</td>\n",
              "      <td>5.0</td>\n",
              "      <td>1.0</td>\n",
              "      <td>4.0</td>\n",
              "      <td>5.0</td>\n",
              "      <td>4.0</td>\n",
              "      <td>...</td>\n",
              "      <td>5.0</td>\n",
              "      <td>4.0</td>\n",
              "      <td>4.0</td>\n",
              "      <td>0.0</td>\n",
              "      <td>0.0</td>\n",
              "      <td>2.0</td>\n",
              "      <td>0.0</td>\n",
              "      <td>0.0</td>\n",
              "      <td>0.0</td>\n",
              "      <td>1.0</td>\n",
              "    </tr>\n",
              "    <tr>\n",
              "      <th>3</th>\n",
              "      <td>7655.0</td>\n",
              "      <td>21.0</td>\n",
              "      <td>767.0</td>\n",
              "      <td>4.0</td>\n",
              "      <td>0.0</td>\n",
              "      <td>4.0</td>\n",
              "      <td>3.0</td>\n",
              "      <td>4.0</td>\n",
              "      <td>4.0</td>\n",
              "      <td>4.0</td>\n",
              "      <td>...</td>\n",
              "      <td>3.0</td>\n",
              "      <td>4.0</td>\n",
              "      <td>4.0</td>\n",
              "      <td>15.0</td>\n",
              "      <td>0.0</td>\n",
              "      <td>2.0</td>\n",
              "      <td>0.0</td>\n",
              "      <td>0.0</td>\n",
              "      <td>0.0</td>\n",
              "      <td>1.0</td>\n",
              "    </tr>\n",
              "    <tr>\n",
              "      <th>4</th>\n",
              "      <td>100573.0</td>\n",
              "      <td>53.0</td>\n",
              "      <td>486.0</td>\n",
              "      <td>2.2</td>\n",
              "      <td>1.0</td>\n",
              "      <td>1.0</td>\n",
              "      <td>1.0</td>\n",
              "      <td>5.0</td>\n",
              "      <td>4.0</td>\n",
              "      <td>4.0</td>\n",
              "      <td>...</td>\n",
              "      <td>3.0</td>\n",
              "      <td>5.0</td>\n",
              "      <td>4.0</td>\n",
              "      <td>0.0</td>\n",
              "      <td>0.0</td>\n",
              "      <td>2.0</td>\n",
              "      <td>0.0</td>\n",
              "      <td>1.0</td>\n",
              "      <td>0.0</td>\n",
              "      <td>3.0</td>\n",
              "    </tr>\n",
              "  </tbody>\n",
              "</table>\n",
              "<p>5 rows × 24 columns</p>\n",
              "</div>\n",
              "    <div class=\"colab-df-buttons\">\n",
              "\n",
              "  <div class=\"colab-df-container\">\n",
              "    <button class=\"colab-df-convert\" onclick=\"convertToInteractive('df-5c01d7ae-f461-4568-aabe-fb6c1edbca77')\"\n",
              "            title=\"Convert this dataframe to an interactive table.\"\n",
              "            style=\"display:none;\">\n",
              "\n",
              "  <svg xmlns=\"http://www.w3.org/2000/svg\" height=\"24px\" viewBox=\"0 -960 960 960\">\n",
              "    <path d=\"M120-120v-720h720v720H120Zm60-500h600v-160H180v160Zm220 220h160v-160H400v160Zm0 220h160v-160H400v160ZM180-400h160v-160H180v160Zm440 0h160v-160H620v160ZM180-180h160v-160H180v160Zm440 0h160v-160H620v160Z\"/>\n",
              "  </svg>\n",
              "    </button>\n",
              "\n",
              "  <style>\n",
              "    .colab-df-container {\n",
              "      display:flex;\n",
              "      gap: 12px;\n",
              "    }\n",
              "\n",
              "    .colab-df-convert {\n",
              "      background-color: #E8F0FE;\n",
              "      border: none;\n",
              "      border-radius: 50%;\n",
              "      cursor: pointer;\n",
              "      display: none;\n",
              "      fill: #1967D2;\n",
              "      height: 32px;\n",
              "      padding: 0 0 0 0;\n",
              "      width: 32px;\n",
              "    }\n",
              "\n",
              "    .colab-df-convert:hover {\n",
              "      background-color: #E2EBFA;\n",
              "      box-shadow: 0px 1px 2px rgba(60, 64, 67, 0.3), 0px 1px 3px 1px rgba(60, 64, 67, 0.15);\n",
              "      fill: #174EA6;\n",
              "    }\n",
              "\n",
              "    .colab-df-buttons div {\n",
              "      margin-bottom: 4px;\n",
              "    }\n",
              "\n",
              "    [theme=dark] .colab-df-convert {\n",
              "      background-color: #3B4455;\n",
              "      fill: #D2E3FC;\n",
              "    }\n",
              "\n",
              "    [theme=dark] .colab-df-convert:hover {\n",
              "      background-color: #434B5C;\n",
              "      box-shadow: 0px 1px 3px 1px rgba(0, 0, 0, 0.15);\n",
              "      filter: drop-shadow(0px 1px 2px rgba(0, 0, 0, 0.3));\n",
              "      fill: #FFFFFF;\n",
              "    }\n",
              "  </style>\n",
              "\n",
              "    <script>\n",
              "      const buttonEl =\n",
              "        document.querySelector('#df-5c01d7ae-f461-4568-aabe-fb6c1edbca77 button.colab-df-convert');\n",
              "      buttonEl.style.display =\n",
              "        google.colab.kernel.accessAllowed ? 'block' : 'none';\n",
              "\n",
              "      async function convertToInteractive(key) {\n",
              "        const element = document.querySelector('#df-5c01d7ae-f461-4568-aabe-fb6c1edbca77');\n",
              "        const dataTable =\n",
              "          await google.colab.kernel.invokeFunction('convertToInteractive',\n",
              "                                                    [key], {});\n",
              "        if (!dataTable) return;\n",
              "\n",
              "        const docLinkHtml = 'Like what you see? Visit the ' +\n",
              "          '<a target=\"_blank\" href=https://colab.research.google.com/notebooks/data_table.ipynb>data table notebook</a>'\n",
              "          + ' to learn more about interactive tables.';\n",
              "        element.innerHTML = '';\n",
              "        dataTable['output_type'] = 'display_data';\n",
              "        await google.colab.output.renderOutput(dataTable, element);\n",
              "        const docLink = document.createElement('div');\n",
              "        docLink.innerHTML = docLinkHtml;\n",
              "        element.appendChild(docLink);\n",
              "      }\n",
              "    </script>\n",
              "  </div>\n",
              "\n",
              "\n",
              "<div id=\"df-0dfab924-d99d-46b6-b0b5-17905b99eb96\">\n",
              "  <button class=\"colab-df-quickchart\" onclick=\"quickchart('df-0dfab924-d99d-46b6-b0b5-17905b99eb96')\"\n",
              "            title=\"Suggest charts\"\n",
              "            style=\"display:none;\">\n",
              "\n",
              "<svg xmlns=\"http://www.w3.org/2000/svg\" height=\"24px\"viewBox=\"0 0 24 24\"\n",
              "     width=\"24px\">\n",
              "    <g>\n",
              "        <path d=\"M19 3H5c-1.1 0-2 .9-2 2v14c0 1.1.9 2 2 2h14c1.1 0 2-.9 2-2V5c0-1.1-.9-2-2-2zM9 17H7v-7h2v7zm4 0h-2V7h2v10zm4 0h-2v-4h2v4z\"/>\n",
              "    </g>\n",
              "</svg>\n",
              "  </button>\n",
              "\n",
              "<style>\n",
              "  .colab-df-quickchart {\n",
              "      --bg-color: #E8F0FE;\n",
              "      --fill-color: #1967D2;\n",
              "      --hover-bg-color: #E2EBFA;\n",
              "      --hover-fill-color: #174EA6;\n",
              "      --disabled-fill-color: #AAA;\n",
              "      --disabled-bg-color: #DDD;\n",
              "  }\n",
              "\n",
              "  [theme=dark] .colab-df-quickchart {\n",
              "      --bg-color: #3B4455;\n",
              "      --fill-color: #D2E3FC;\n",
              "      --hover-bg-color: #434B5C;\n",
              "      --hover-fill-color: #FFFFFF;\n",
              "      --disabled-bg-color: #3B4455;\n",
              "      --disabled-fill-color: #666;\n",
              "  }\n",
              "\n",
              "  .colab-df-quickchart {\n",
              "    background-color: var(--bg-color);\n",
              "    border: none;\n",
              "    border-radius: 50%;\n",
              "    cursor: pointer;\n",
              "    display: none;\n",
              "    fill: var(--fill-color);\n",
              "    height: 32px;\n",
              "    padding: 0;\n",
              "    width: 32px;\n",
              "  }\n",
              "\n",
              "  .colab-df-quickchart:hover {\n",
              "    background-color: var(--hover-bg-color);\n",
              "    box-shadow: 0 1px 2px rgba(60, 64, 67, 0.3), 0 1px 3px 1px rgba(60, 64, 67, 0.15);\n",
              "    fill: var(--button-hover-fill-color);\n",
              "  }\n",
              "\n",
              "  .colab-df-quickchart-complete:disabled,\n",
              "  .colab-df-quickchart-complete:disabled:hover {\n",
              "    background-color: var(--disabled-bg-color);\n",
              "    fill: var(--disabled-fill-color);\n",
              "    box-shadow: none;\n",
              "  }\n",
              "\n",
              "  .colab-df-spinner {\n",
              "    border: 2px solid var(--fill-color);\n",
              "    border-color: transparent;\n",
              "    border-bottom-color: var(--fill-color);\n",
              "    animation:\n",
              "      spin 1s steps(1) infinite;\n",
              "  }\n",
              "\n",
              "  @keyframes spin {\n",
              "    0% {\n",
              "      border-color: transparent;\n",
              "      border-bottom-color: var(--fill-color);\n",
              "      border-left-color: var(--fill-color);\n",
              "    }\n",
              "    20% {\n",
              "      border-color: transparent;\n",
              "      border-left-color: var(--fill-color);\n",
              "      border-top-color: var(--fill-color);\n",
              "    }\n",
              "    30% {\n",
              "      border-color: transparent;\n",
              "      border-left-color: var(--fill-color);\n",
              "      border-top-color: var(--fill-color);\n",
              "      border-right-color: var(--fill-color);\n",
              "    }\n",
              "    40% {\n",
              "      border-color: transparent;\n",
              "      border-right-color: var(--fill-color);\n",
              "      border-top-color: var(--fill-color);\n",
              "    }\n",
              "    60% {\n",
              "      border-color: transparent;\n",
              "      border-right-color: var(--fill-color);\n",
              "    }\n",
              "    80% {\n",
              "      border-color: transparent;\n",
              "      border-right-color: var(--fill-color);\n",
              "      border-bottom-color: var(--fill-color);\n",
              "    }\n",
              "    90% {\n",
              "      border-color: transparent;\n",
              "      border-bottom-color: var(--fill-color);\n",
              "    }\n",
              "  }\n",
              "</style>\n",
              "\n",
              "  <script>\n",
              "    async function quickchart(key) {\n",
              "      const quickchartButtonEl =\n",
              "        document.querySelector('#' + key + ' button');\n",
              "      quickchartButtonEl.disabled = true;  // To prevent multiple clicks.\n",
              "      quickchartButtonEl.classList.add('colab-df-spinner');\n",
              "      try {\n",
              "        const charts = await google.colab.kernel.invokeFunction(\n",
              "            'suggestCharts', [key], {});\n",
              "      } catch (error) {\n",
              "        console.error('Error during call to suggestCharts:', error);\n",
              "      }\n",
              "      quickchartButtonEl.classList.remove('colab-df-spinner');\n",
              "      quickchartButtonEl.classList.add('colab-df-quickchart-complete');\n",
              "    }\n",
              "    (() => {\n",
              "      let quickchartButtonEl =\n",
              "        document.querySelector('#df-0dfab924-d99d-46b6-b0b5-17905b99eb96 button');\n",
              "      quickchartButtonEl.style.display =\n",
              "        google.colab.kernel.accessAllowed ? 'block' : 'none';\n",
              "    })();\n",
              "  </script>\n",
              "</div>\n",
              "    </div>\n",
              "  </div>\n"
            ]
          },
          "metadata": {},
          "execution_count": 188
        }
      ]
    },
    {
      "cell_type": "markdown",
      "metadata": {
        "id": "_JIgBsPcyqFO"
      },
      "source": [
        "## Exploratory data analysis\n",
        "\n",
        "Section for exploratory data analysis, to address **Tasks 1.1 and 1.2**.\n",
        "\n",
        "**OBS:** You may need to do some data cleaning before you do your full exploratory data analysis, though you will find that some functions we'll cover in this unit are able to handle things like missing values and non-numeric data.\n",
        "\n",
        "**Create more cells as needed!**"
      ]
    },
    {
      "cell_type": "code",
      "source": [
        "df['gender'].value_counts().plot(kind='pie', title='Gender distribution');"
      ],
      "metadata": {
        "id": "HweCQ9jS68Ki",
        "outputId": "c2df291f-4d00-4042-a3dc-d5455c852ab9",
        "colab": {
          "base_uri": "https://localhost:8080/",
          "height": 538
        }
      },
      "execution_count": 304,
      "outputs": [
        {
          "output_type": "error",
          "ename": "KeyError",
          "evalue": "'gender'",
          "traceback": [
            "\u001b[0;31m---------------------------------------------------------------------------\u001b[0m",
            "\u001b[0;31mKeyError\u001b[0m                                  Traceback (most recent call last)",
            "\u001b[0;32m/usr/local/lib/python3.10/dist-packages/pandas/core/indexes/base.py\u001b[0m in \u001b[0;36mget_loc\u001b[0;34m(self, key, method, tolerance)\u001b[0m\n\u001b[1;32m   3801\u001b[0m             \u001b[0;32mtry\u001b[0m\u001b[0;34m:\u001b[0m\u001b[0;34m\u001b[0m\u001b[0;34m\u001b[0m\u001b[0m\n\u001b[0;32m-> 3802\u001b[0;31m                 \u001b[0;32mreturn\u001b[0m \u001b[0mself\u001b[0m\u001b[0;34m.\u001b[0m\u001b[0m_engine\u001b[0m\u001b[0;34m.\u001b[0m\u001b[0mget_loc\u001b[0m\u001b[0;34m(\u001b[0m\u001b[0mcasted_key\u001b[0m\u001b[0;34m)\u001b[0m\u001b[0;34m\u001b[0m\u001b[0;34m\u001b[0m\u001b[0m\n\u001b[0m\u001b[1;32m   3803\u001b[0m             \u001b[0;32mexcept\u001b[0m \u001b[0mKeyError\u001b[0m \u001b[0;32mas\u001b[0m \u001b[0merr\u001b[0m\u001b[0;34m:\u001b[0m\u001b[0;34m\u001b[0m\u001b[0;34m\u001b[0m\u001b[0m\n",
            "\u001b[0;32m/usr/local/lib/python3.10/dist-packages/pandas/_libs/index.pyx\u001b[0m in \u001b[0;36mpandas._libs.index.IndexEngine.get_loc\u001b[0;34m()\u001b[0m\n",
            "\u001b[0;32m/usr/local/lib/python3.10/dist-packages/pandas/_libs/index.pyx\u001b[0m in \u001b[0;36mpandas._libs.index.IndexEngine.get_loc\u001b[0;34m()\u001b[0m\n",
            "\u001b[0;32mpandas/_libs/hashtable_class_helper.pxi\u001b[0m in \u001b[0;36mpandas._libs.hashtable.PyObjectHashTable.get_item\u001b[0;34m()\u001b[0m\n",
            "\u001b[0;32mpandas/_libs/hashtable_class_helper.pxi\u001b[0m in \u001b[0;36mpandas._libs.hashtable.PyObjectHashTable.get_item\u001b[0;34m()\u001b[0m\n",
            "\u001b[0;31mKeyError\u001b[0m: 'gender'",
            "\nThe above exception was the direct cause of the following exception:\n",
            "\u001b[0;31mKeyError\u001b[0m                                  Traceback (most recent call last)",
            "\u001b[0;32m<ipython-input-304-fd29604fec51>\u001b[0m in \u001b[0;36m<cell line: 1>\u001b[0;34m()\u001b[0m\n\u001b[0;32m----> 1\u001b[0;31m \u001b[0mdf\u001b[0m\u001b[0;34m[\u001b[0m\u001b[0;34m'gender'\u001b[0m\u001b[0;34m]\u001b[0m\u001b[0;34m.\u001b[0m\u001b[0mvalue_counts\u001b[0m\u001b[0;34m(\u001b[0m\u001b[0;34m)\u001b[0m\u001b[0;34m.\u001b[0m\u001b[0mplot\u001b[0m\u001b[0;34m(\u001b[0m\u001b[0mkind\u001b[0m\u001b[0;34m=\u001b[0m\u001b[0;34m'pie'\u001b[0m\u001b[0;34m,\u001b[0m \u001b[0mtitle\u001b[0m\u001b[0;34m=\u001b[0m\u001b[0;34m'Gender distribution'\u001b[0m\u001b[0;34m)\u001b[0m\u001b[0;34m;\u001b[0m\u001b[0;34m\u001b[0m\u001b[0;34m\u001b[0m\u001b[0m\n\u001b[0m",
            "\u001b[0;32m/usr/local/lib/python3.10/dist-packages/pandas/core/frame.py\u001b[0m in \u001b[0;36m__getitem__\u001b[0;34m(self, key)\u001b[0m\n\u001b[1;32m   3805\u001b[0m             \u001b[0;32mif\u001b[0m \u001b[0mself\u001b[0m\u001b[0;34m.\u001b[0m\u001b[0mcolumns\u001b[0m\u001b[0;34m.\u001b[0m\u001b[0mnlevels\u001b[0m \u001b[0;34m>\u001b[0m \u001b[0;36m1\u001b[0m\u001b[0;34m:\u001b[0m\u001b[0;34m\u001b[0m\u001b[0;34m\u001b[0m\u001b[0m\n\u001b[1;32m   3806\u001b[0m                 \u001b[0;32mreturn\u001b[0m \u001b[0mself\u001b[0m\u001b[0;34m.\u001b[0m\u001b[0m_getitem_multilevel\u001b[0m\u001b[0;34m(\u001b[0m\u001b[0mkey\u001b[0m\u001b[0;34m)\u001b[0m\u001b[0;34m\u001b[0m\u001b[0;34m\u001b[0m\u001b[0m\n\u001b[0;32m-> 3807\u001b[0;31m             \u001b[0mindexer\u001b[0m \u001b[0;34m=\u001b[0m \u001b[0mself\u001b[0m\u001b[0;34m.\u001b[0m\u001b[0mcolumns\u001b[0m\u001b[0;34m.\u001b[0m\u001b[0mget_loc\u001b[0m\u001b[0;34m(\u001b[0m\u001b[0mkey\u001b[0m\u001b[0;34m)\u001b[0m\u001b[0;34m\u001b[0m\u001b[0;34m\u001b[0m\u001b[0m\n\u001b[0m\u001b[1;32m   3808\u001b[0m             \u001b[0;32mif\u001b[0m \u001b[0mis_integer\u001b[0m\u001b[0;34m(\u001b[0m\u001b[0mindexer\u001b[0m\u001b[0;34m)\u001b[0m\u001b[0;34m:\u001b[0m\u001b[0;34m\u001b[0m\u001b[0;34m\u001b[0m\u001b[0m\n\u001b[1;32m   3809\u001b[0m                 \u001b[0mindexer\u001b[0m \u001b[0;34m=\u001b[0m \u001b[0;34m[\u001b[0m\u001b[0mindexer\u001b[0m\u001b[0;34m]\u001b[0m\u001b[0;34m\u001b[0m\u001b[0;34m\u001b[0m\u001b[0m\n",
            "\u001b[0;32m/usr/local/lib/python3.10/dist-packages/pandas/core/indexes/base.py\u001b[0m in \u001b[0;36mget_loc\u001b[0;34m(self, key, method, tolerance)\u001b[0m\n\u001b[1;32m   3802\u001b[0m                 \u001b[0;32mreturn\u001b[0m \u001b[0mself\u001b[0m\u001b[0;34m.\u001b[0m\u001b[0m_engine\u001b[0m\u001b[0;34m.\u001b[0m\u001b[0mget_loc\u001b[0m\u001b[0;34m(\u001b[0m\u001b[0mcasted_key\u001b[0m\u001b[0;34m)\u001b[0m\u001b[0;34m\u001b[0m\u001b[0;34m\u001b[0m\u001b[0m\n\u001b[1;32m   3803\u001b[0m             \u001b[0;32mexcept\u001b[0m \u001b[0mKeyError\u001b[0m \u001b[0;32mas\u001b[0m \u001b[0merr\u001b[0m\u001b[0;34m:\u001b[0m\u001b[0;34m\u001b[0m\u001b[0;34m\u001b[0m\u001b[0m\n\u001b[0;32m-> 3804\u001b[0;31m                 \u001b[0;32mraise\u001b[0m \u001b[0mKeyError\u001b[0m\u001b[0;34m(\u001b[0m\u001b[0mkey\u001b[0m\u001b[0;34m)\u001b[0m \u001b[0;32mfrom\u001b[0m \u001b[0merr\u001b[0m\u001b[0;34m\u001b[0m\u001b[0;34m\u001b[0m\u001b[0m\n\u001b[0m\u001b[1;32m   3805\u001b[0m             \u001b[0;32mexcept\u001b[0m \u001b[0mTypeError\u001b[0m\u001b[0;34m:\u001b[0m\u001b[0;34m\u001b[0m\u001b[0;34m\u001b[0m\u001b[0m\n\u001b[1;32m   3806\u001b[0m                 \u001b[0;31m# If we have a listlike key, _check_indexing_error will raise\u001b[0m\u001b[0;34m\u001b[0m\u001b[0;34m\u001b[0m\u001b[0m\n",
            "\u001b[0;31mKeyError\u001b[0m: 'gender'"
          ]
        }
      ]
    },
    {
      "cell_type": "code",
      "source": [
        "sns.countplot(data=df, x='class')\n",
        "plt.title('Distribution of Customer Satisfaction')\n",
        "plt.xlabel('Satisfaction Level')\n",
        "plt.ylabel('Count')\n",
        "plt.show()"
      ],
      "metadata": {
        "id": "H2Ia0k7JMR1e"
      },
      "execution_count": null,
      "outputs": []
    },
    {
      "cell_type": "code",
      "source": [
        "sns.countplot(data=df, x='customer_type')\n",
        "plt.title('Distribution of Customer Satisfaction')\n",
        "plt.xlabel('Customer')\n",
        "plt.ylabel('Count')\n",
        "plt.show()"
      ],
      "metadata": {
        "id": "rfzHrOigaDpW"
      },
      "execution_count": null,
      "outputs": []
    },
    {
      "cell_type": "code",
      "source": [
        "sns.countplot(df, x=\"gender\", hue=\"class\")"
      ],
      "metadata": {
        "id": "zcKdzZD2cPFi"
      },
      "execution_count": null,
      "outputs": []
    },
    {
      "cell_type": "code",
      "source": [
        "sns.countplot(df, x=\"customer_type\", hue=\"class\")"
      ],
      "metadata": {
        "id": "t9c-vAvmcbER"
      },
      "execution_count": null,
      "outputs": []
    },
    {
      "cell_type": "code",
      "source": [
        "sns.countplot(df, x=\"type_of_travel\", hue=\"travel_class\")"
      ],
      "metadata": {
        "id": "lrEacZRLdTNP"
      },
      "execution_count": null,
      "outputs": []
    },
    {
      "cell_type": "code",
      "source": [
        "sns.displot(data=df, x=\"age\", hue=\"gender\", kind=\"kde\")"
      ],
      "metadata": {
        "id": "gu653gDC74T1"
      },
      "execution_count": null,
      "outputs": []
    },
    {
      "cell_type": "code",
      "source": [
        "sns.violinplot(data=df, x=\"class\", y=\"age\", hue=\"gender\", split=True, inner=\"quart\")"
      ],
      "metadata": {
        "id": "41nwj8ogCzle"
      },
      "execution_count": null,
      "outputs": []
    },
    {
      "cell_type": "code",
      "source": [
        "sns.violinplot(data=df, x=\"class\", y=\"flight_distance\", hue=\"gender\", split=True, inner=\"quart\")"
      ],
      "metadata": {
        "id": "btvlkeNZ_sGS"
      },
      "execution_count": null,
      "outputs": []
    },
    {
      "cell_type": "code",
      "source": [
        "sns.violinplot(data=df, x=\"class\", y=\"age\", hue=\"customer_type\", split=True, inner=\"quart\")"
      ],
      "metadata": {
        "id": "Im-xa6fsLaCE"
      },
      "execution_count": null,
      "outputs": []
    },
    {
      "cell_type": "code",
      "source": [
        "plt.figure();\n",
        "\n",
        "# setting up custom colouring\n",
        "color = {'boxes': 'DarkGreen', 'whiskers': 'DarkOrange', 'medians': 'DarkBlue', 'caps': 'Gray'}\n",
        "columns_to_plot = ['departure_delay_in_minutes', 'arrival_delay_in_minutes']\n",
        "# a box plot for all features\n",
        "box_plot = df[columns_to_plot].plot.box(color=color, sym='r+');\n",
        "box_plot.set_title('Box plot for Departure and Arrival delays')\n",
        "box_plot.set_ylabel('minutes')\n",
        "box_plot.set_ylim([0, 400])"
      ],
      "metadata": {
        "id": "g1GKxGsJje3U"
      },
      "execution_count": null,
      "outputs": []
    },
    {
      "cell_type": "code",
      "source": [
        "plt.figure();\n",
        "\n",
        "# setting up custom colouring\n",
        "color = {'boxes': 'DarkGreen', 'whiskers': 'DarkOrange', 'medians': 'DarkBlue', 'caps': 'Gray'}\n",
        "columns_to_plot = ['inflight_wifi_service', 'departure_arrival_time_convenient', 'ease_of_online_booking', 'gate_location', 'food_and_drink', 'online_boarding', 'seat_comfort', 'inflight_entertainment', 'on_board_service', 'leg_room_service', 'baggage_handling', 'checkin_service', 'inflight_service', 'cleanliness']\n",
        "# a box plot for all features\n",
        "box_plot = df[columns_to_plot].plot.box(color=color, sym='r+');\n",
        "box_plot.set_title('Box plot')\n",
        "box_plot.set_ylabel('Customer rating')\n",
        "box_plot.set_ylim([-1, 6])\n",
        "box_plot.set_xticklabels(box_plot.get_xticklabels(), rotation=90)"
      ],
      "metadata": {
        "id": "8OhV4cKVmYYg"
      },
      "execution_count": null,
      "outputs": []
    },
    {
      "cell_type": "code",
      "source": [
        "sns.scatterplot(x=\"arrival_delay_in_minutes\", y=\"departure_delay_in_minutes\", hue=\"class\", data=df, palette=\"bright\", s=20, alpha=0.8)\n",
        "\n",
        "plt.xlabel('arrival delay in minutes')\n",
        "plt.ylabel('departure delay in minutes')\n",
        "\n",
        "plt.xlim(0, 500)\n",
        "plt.ylim(0, 500)\n",
        "\n",
        "plt.show()"
      ],
      "metadata": {
        "id": "foCEeuTLfs3w"
      },
      "execution_count": null,
      "outputs": []
    },
    {
      "cell_type": "code",
      "source": [
        "sns.scatterplot(x=\"age\", y=\"flight_distance\", hue=\"travel_class\", data=df, palette=\"bright\", s=20, alpha=0.8)\n",
        "\n",
        "plt.xlabel('age')\n",
        "plt.ylabel('flight distance')\n",
        "\n",
        "plt.xlim(0, 100)\n",
        "plt.ylim(0, 4200)\n",
        "\n",
        "plt.show()"
      ],
      "metadata": {
        "id": "iagzbNGGd4zL"
      },
      "execution_count": null,
      "outputs": []
    },
    {
      "cell_type": "code",
      "source": [
        "# Scatter plot\n",
        "sns.scatterplot(x=\"age\", y=\"flight_distance\", data=df, s=20, alpha=0.8)\n",
        "plt.xlabel('age')\n",
        "plt.ylabel('flight distance')\n",
        "plt.xlim(0, 100)\n",
        "plt.ylim(0, 4500)\n",
        "\n",
        "# Heatmap\n",
        "x = df['age']\n",
        "y = df['flight_distance']\n",
        "\n",
        "# Drop NaN values\n",
        "xy_valid = pd.concat([x, y], axis=1).dropna()\n",
        "\n",
        "heatmap, xedges, yedges = np.histogram2d(xy_valid['age'], xy_valid['flight_distance'], bins=(50, 50))\n",
        "extent = [xedges[0], xedges[-1], yedges[0], yedges[-1]]\n",
        "\n",
        "plt.clf()\n",
        "plt.imshow(heatmap.T, extent=extent, origin='lower', aspect='auto', cmap='viridis')  # You can choose a different colormap\n",
        "plt.colorbar(label='Frequency')\n",
        "plt.xlabel('age')\n",
        "plt.ylabel('flight distance')\n",
        "plt.show()"
      ],
      "metadata": {
        "id": "_wJ3Z0Qy5JlN"
      },
      "execution_count": null,
      "outputs": []
    },
    {
      "cell_type": "code",
      "source": [
        "# Scatter plot\n",
        "sns.scatterplot(x=\"age\", y=\"flight_distance\", hue=\"class\", data=df, palette=\"bright\", s=20, alpha=0.8)\n",
        "plt.xlabel('age')\n",
        "plt.ylabel('flight distance')\n",
        "plt.xlim(0, 100)\n",
        "plt.ylim(0, 4200)\n",
        "\n",
        "# Create separate heatmaps for each class\n",
        "classes = df['class'].unique()\n",
        "\n",
        "for class_label in classes:\n",
        "    class_df = df[df['class'] == class_label]\n",
        "\n",
        "    # Heatmap\n",
        "    x = class_df['age']\n",
        "    y = class_df['flight_distance']\n",
        "\n",
        "    # Drop NaN values\n",
        "    xy_valid = pd.concat([x, y], axis=1).dropna()\n",
        "\n",
        "    heatmap, xedges, yedges = np.histogram2d(xy_valid['age'], xy_valid['flight_distance'], bins=(50, 50))\n",
        "    extent = [xedges[0], xedges[-1], yedges[0], yedges[-1]]\n",
        "\n",
        "    plt.clf()\n",
        "    plt.imshow(heatmap.T, extent=extent, origin='lower', aspect='auto', cmap='viridis')\n",
        "    plt.colorbar(label='Frequency')\n",
        "    plt.xlabel('age')\n",
        "    plt.ylabel('flight distance')\n",
        "    plt.title(f'Heatmap for Class: {class_label}')\n",
        "    plt.show()"
      ],
      "metadata": {
        "id": "Ix3WyR4a9e9N"
      },
      "execution_count": null,
      "outputs": []
    },
    {
      "cell_type": "code",
      "source": [
        "# Changes the markers for non-subs and plagiarism\n",
        "fig = plt.figure()\n",
        "fig, ax = plt.subplots()\n",
        "ax.margins(0.05) # Optional, just adds 5% padding to the autoscaling\n",
        "\n",
        "# group the data instances according to the different classes they belong to\n",
        "groups = df.groupby('class')\n",
        "\n",
        "# iterate over each group and plot (scatter)\n",
        "for name, group in groups:\n",
        "    ax.plot(group[\"flight_distance\"], group[\"arrival_delay_in_minutes\"], marker='.', linestyle='', ms=12, label=name, alpha=0.2)\n",
        "\n",
        "# set labels for the y and x axes\n",
        "ax.set_xlabel('delay')\n",
        "ax.set_ylabel('distance')\n",
        "\n",
        "# set the value ranges for the axes\n",
        "ax.set_xlim(0,4000)\n",
        "ax.set_ylim(0,200)\n"
      ],
      "metadata": {
        "id": "_bppN1QKaECX"
      },
      "execution_count": null,
      "outputs": []
    },
    {
      "cell_type": "code",
      "source": [
        "# Changes the markers for non-subs and plagiarism\n",
        "fig = plt.figure()\n",
        "fig, ax = plt.subplots()\n",
        "ax.margins(0.05) # Optional, just adds 5% padding to the autoscaling\n",
        "\n",
        "# group the data instances according to the different classes they belong to\n",
        "groups = df.groupby('class')\n",
        "\n",
        "# iterate over each group and plot (scatter)\n",
        "for name, group in groups:\n",
        "    ax.plot(group[\"arrival_delay_in_minutes\"], group[\"flight_distance\"], marker='.', linestyle='', ms=12, label=name)\n",
        "\n",
        "# set labels for the y and x axes\n",
        "ax.set_xlabel('delay')\n",
        "ax.set_ylabel('distance')\n",
        "\n",
        "# set the value ranges for the axes\n",
        "ax.set_xlim(0,500)\n",
        "ax.set_ylim(0,4200)\n"
      ],
      "metadata": {
        "id": "v6lA5NTKJzfF"
      },
      "execution_count": null,
      "outputs": []
    },
    {
      "cell_type": "code",
      "source": [
        "# Changes the markers for non-subs and plagiarism\n",
        "fig = plt.figure()\n",
        "fig, ax = plt.subplots()\n",
        "ax.margins(0.05) # Optional, just adds 5% padding to the autoscaling\n",
        "\n",
        "# group the data instances according to the different classes they belong to\n",
        "groups = df.groupby('class')\n",
        "\n",
        "# iterate over each group and plot (scatter)\n",
        "for name, group in groups:\n",
        "    ax.plot(group[\"departure_delay_in_minutes\"], group[\"flight_distance\"], marker='.', linestyle='', ms=12, label=name)\n",
        "\n",
        "# set labels for the y and x axes\n",
        "ax.set_xlabel('delay')\n",
        "ax.set_ylabel('distance')\n",
        "\n",
        "# set the value ranges for the axes\n",
        "ax.set_xlim(0,500)\n",
        "ax.set_ylim(0,4200)"
      ],
      "metadata": {
        "id": "G-3mG715MCOw"
      },
      "execution_count": null,
      "outputs": []
    },
    {
      "cell_type": "code",
      "execution_count": null,
      "metadata": {
        "ExecuteTime": {
          "end_time": "2022-09-07T15:03:27.301454Z",
          "start_time": "2022-09-07T15:03:27.299490Z"
        },
        "id": "GUyBffxhyqFP"
      },
      "outputs": [],
      "source": [
        "corr = df.corr(method='pearson')\n",
        "corr = df.corr(method='spearman')"
      ]
    },
    {
      "cell_type": "code",
      "execution_count": null,
      "metadata": {
        "id": "TNS5UeIzyqFP"
      },
      "outputs": [],
      "source": [
        "plt.figure(figsize=(12, 10))\n",
        "mask = np.triu(np.ones_like(corr, dtype=bool))\n",
        "ax = sns.heatmap(\n",
        "    corr,\n",
        "    vmin=-1, vmax=1, center=0,\n",
        "    cmap=sns.diverging_palette(20, 220, n=200),\n",
        "    square=True,\n",
        "    annot=True,\n",
        "    fmt=\".2f\",\n",
        "    linewidths=.5,\n",
        "    mask=mask\n",
        ")\n",
        "\n",
        "plt.show()"
      ]
    },
    {
      "cell_type": "code",
      "execution_count": null,
      "metadata": {
        "id": "w8Oj9YeryqFQ"
      },
      "outputs": [],
      "source": [
        "sns.pairplot(data=df, hue=\"class\")"
      ]
    },
    {
      "cell_type": "code",
      "source": [
        "sns.pairplot(data=df, hue=\"travel_class\")"
      ],
      "metadata": {
        "id": "QexJ4ISfyJBI"
      },
      "execution_count": null,
      "outputs": []
    },
    {
      "cell_type": "code",
      "source": [
        "sns.pairplot(data=df, hue=\"customer_type\")"
      ],
      "metadata": {
        "id": "r70iggo-R2YG"
      },
      "execution_count": null,
      "outputs": []
    },
    {
      "cell_type": "code",
      "source": [
        "def plot_cluster_graph(X, labels, core_samples_mask, algorithm_name, n_clusters):\n",
        "  X_df = df[[\"departure_delay_in_minutes\", \"flight_distance\"]]\n",
        "  X_df = StandardScaler().fit_transform(X_df)\n",
        "\n",
        "  db = DBSCAN(eps=0.5, min_samples=10).fit(X_df)\n",
        "  labels = db.labels_\n",
        "\n",
        "# Number of clusters in labels, ignoring noise (if present)\n",
        "  n_clusters_ = len(set(labels)) - (1 if -1 in labels else 0)\n",
        "  n_noise_ = list(labels).count(-1)\n",
        "\n",
        "# Create a mask for visualising the core samples in each cluster\n",
        "# - First creates a NumPy array of False entries\n",
        "# - Then sets the entries for the core instances to True\n",
        "  core_samples_mask = np.zeros_like(db.labels_, dtype=bool)\n",
        "  core_samples_mask[db.core_sample_indices_] = True\n",
        "\n",
        "# Printing some stats\n",
        "# can't do all stats as above, as we don't have a ground truth of what clusters\n",
        "# each data point should belong to as in the test data\n",
        "  print('Estimated number of clusters: %d' % n_clusters_)\n",
        "  print('Estimated number of noise points: %d' % n_noise_)\n",
        "\n",
        "# Plotting the clustering outputs\n",
        "plot_cluster_graph(X_df, labels, core_samples_mask, 'DBSCAN', n_clusters_)"
      ],
      "metadata": {
        "id": "qePzM_9gtIYa"
      },
      "execution_count": null,
      "outputs": []
    },
    {
      "cell_type": "code",
      "source": [
        "X_df = df[[\"departure_delay_in_minutes\", \"flight_distance\"]]\n",
        "X_df = StandardScaler().fit_transform(X_df)\n",
        "\n",
        "# Calculate DBSCAN clustering results\n",
        "db = DBSCAN(eps=0.5, min_samples=10).fit(X_df)\n",
        "labels = db.labels_\n",
        "\n",
        "# Number of clusters in labels, ignoring noise (if present)\n",
        "n_clusters_ = len(set(labels)) - (1 if -1 in labels else 0)\n",
        "\n",
        "# Create a mask for visualizing the core samples in each cluster\n",
        "core_samples_mask = np.zeros_like(db.labels_, dtype=bool)\n",
        "core_samples_mask[db.core_sample_indices_] = True\n",
        "\n",
        "# Printing some stats\n",
        "print('Estimated number of clusters: %d' % n_clusters_)\n",
        "\n",
        "plt.scatter(X_df[:, 0], X_df[:, 1], c=labels, cmap='autumn', s=50, alpha=0.8)\n",
        "plt.title('DBSCAN Clustering')\n",
        "plt.xlabel('Departure Delay')\n",
        "plt.ylabel('Flight Distance')\n",
        "plt.show()"
      ],
      "metadata": {
        "id": "CdElEicK3fhz"
      },
      "execution_count": null,
      "outputs": []
    },
    {
      "cell_type": "code",
      "source": [
        "from sklearn.ensemble import RandomForestRegressor"
      ],
      "metadata": {
        "id": "dKpcuo_XS1gc"
      },
      "execution_count": null,
      "outputs": []
    },
    {
      "cell_type": "code",
      "source": [
        "X = pd.DataFrame(df, columns=['id', 'age', 'flight_distance', 'inflight_wifi_service', 'departure_arrival_time_convenient', 'ease_of_online_booking',\n",
        "                              'inflight_entertainment', 'on_board_service', 'leg_room_service', 'baggage_handling', 'checkin_service', 'inflight_service', 'cleanliness', 'departure_delay_in_minutes',\n",
        "                              'arrival_delay_in_minutes'])\n",
        "y = df['class']\n",
        "X_train, X_test, y_train, y_test = train_test_split(X, y, test_size=0.25, random_state=12)"
      ],
      "metadata": {
        "id": "5AxMNz3bNjqX"
      },
      "execution_count": null,
      "outputs": []
    },
    {
      "cell_type": "code",
      "source": [
        "rf = RandomForestRegressor(n_estimators=100)\n",
        "rf.fit(X_train, y_train)"
      ],
      "metadata": {
        "id": "Jh3rXJpzSxy8"
      },
      "execution_count": null,
      "outputs": []
    },
    {
      "cell_type": "code",
      "source": [
        "print(df.head())"
      ],
      "metadata": {
        "id": "dV2AkSLER5rH"
      },
      "execution_count": null,
      "outputs": []
    },
    {
      "cell_type": "code",
      "source": [
        "X = df.drop('class_satisfied, class_neutral', axis=1)  # Replace 'target_column' with the actual name of your target column\n",
        "y = df['class_neutral, class_satisfied']\n",
        "\n",
        "# Split the dataset into training and testing sets\n",
        "X_train, X_test, y_train, y_test = train_test_split(X, y, stratify=y, random_state=42)\n",
        "\n",
        "feature_names = X.columns.tolist()\n",
        "forest = RandomForestClassifier(random_state=0)\n",
        "forest.fit(X_train, y_train)\n",
        "\n",
        "start_time = time.time()\n",
        "importances = forest.feature_importances_\n",
        "std = np.std([tree.feature_importances_ for tree in forest.estimators_], axis=0)\n",
        "elapsed_time = time.time() - start_time\n",
        "\n",
        "print(f\"Elapsed time to compute the importances: {elapsed_time:.3f} seconds\")\n",
        "\n",
        "forest_importances = pd.Series(importances, index=feature_names)\n",
        "\n",
        "fig, ax = plt.subplots()\n",
        "forest_importances.plot.bar(yerr=std, ax=ax)\n",
        "ax.set_title(\"Feature importances using MDI\")\n",
        "ax.set_ylabel(\"Mean decrease in impurity\")\n",
        "fig.tight_layout()\n",
        "plt.show()"
      ],
      "metadata": {
        "id": "0fvoAwBzPO0q"
      },
      "execution_count": null,
      "outputs": []
    },
    {
      "cell_type": "code",
      "source": [
        "df.isnull().sum()"
      ],
      "metadata": {
        "id": "ZHHPHioOgTeU"
      },
      "execution_count": null,
      "outputs": []
    },
    {
      "cell_type": "code",
      "source": [
        "df.isnull().sum(axis=1).value_counts()"
      ],
      "metadata": {
        "id": "qE6B7G6kk6xo"
      },
      "execution_count": null,
      "outputs": []
    },
    {
      "cell_type": "markdown",
      "metadata": {
        "id": "ghuKdFAWyqFQ"
      },
      "source": [
        "## Core data pre-processing\n",
        "Do core data pre-processing here, which is not part of your machine learning experiments.\n",
        "\n",
        "For example, this may be to convert non-numeric features into numeric ones."
      ]
    },
    {
      "cell_type": "code",
      "execution_count": 321,
      "metadata": {
        "ExecuteTime": {
          "end_time": "2023-07-03T15:47:41.983038Z",
          "start_time": "2023-07-03T15:47:41.952118Z"
        },
        "id": "o0CWKqjpyqFR"
      },
      "outputs": [],
      "source": [
        "values = {\"arrival_delay_in_minutes\": 0, \"departure_delay_in_minutes\": 0}\n",
        "df.fillna(value=values, inplace=True)"
      ]
    },
    {
      "cell_type": "code",
      "source": [
        "threshold_count = 4\n",
        "\n",
        "# The the 'null' count for every row\n",
        "df_row_null_count = df.isnull().sum(axis=1)\n",
        "\n",
        "# Drop any rows that reach the 'threshold_count' for 'null' values\n",
        "df = df.drop(df_row_null_count[df_row_null_count >= threshold_count].index, axis=0)"
      ],
      "metadata": {
        "id": "Wr3ZzzWReU6r"
      },
      "execution_count": 333,
      "outputs": []
    },
    {
      "cell_type": "code",
      "source": [
        "from sklearn.preprocessing import OrdinalEncoder\n",
        "\n",
        "encoder = OrdinalEncoder(categories=[[\"Female\", \"Male\"]])\n",
        "gender_column = df[['gender']].values.reshape(-1, 1)\n",
        "df['gender_encoded'] = encoder.fit_transform(gender_column)\n",
        "\n",
        "df.drop(['gender'], axis=1, inplace=True)\n",
        "\n",
        "encoder = OrdinalEncoder(categories=[[\"disloyal Customer\", \"Loyal Customer\"]])\n",
        "customer_type_column = df[['customer_type']].values.reshape(-1, 1)\n",
        "df['customer_type_encoded'] = encoder.fit_transform(customer_type_column)\n",
        "\n",
        "df.drop(['customer_type'], axis=1, inplace=True)\n",
        "\n",
        "df['type_of_travel'] = df['type_of_travel'].fillna('Unknown')\n",
        "encoder = OrdinalEncoder(categories=[[\"Business travel\", \"Personal Travel\", \"Unknown\"]])\n",
        "type_of_travel_column = df[['type_of_travel']].values.reshape(-1, 1)\n",
        "df['type_of_travel_encoded'] = encoder.fit_transform(type_of_travel_column)\n",
        "\n",
        "df.drop(['type_of_travel'], axis=1, inplace=True)\n",
        "\n",
        "df['travel_class'] = df['travel_class'].fillna('Unknown')\n",
        "encoder = OrdinalEncoder(categories=[[\"Eco\", \"Business\", \"Eco Plus\", \"Unknown\"]])\n",
        "travel_class_column = df[['travel_class']].values.reshape(-1, 1)\n",
        "df['travel_class_encoded'] = encoder.fit_transform(travel_class_column)\n",
        "\n",
        "df.drop(['travel_class'], axis=1, inplace=True)\n",
        "\n",
        "encoder = OrdinalEncoder(categories=[[\"dissatisfied\", \"neutral\", \"satisfied\"]])\n",
        "class_column = df[['class']].values.reshape(-1, 1)\n",
        "df['class_encoded'] = encoder.fit_transform(class_column)\n",
        "\n",
        "df.drop(['class'], axis=1, inplace=True)\n",
        "\n",
        "print(df)"
      ],
      "metadata": {
        "colab": {
          "base_uri": "https://localhost:8080/"
        },
        "id": "thYG_b_2etwj",
        "outputId": "29859873-4ee5-40e1-cdf7-de8b939627fd"
      },
      "execution_count": 334,
      "outputs": [
        {
          "output_type": "stream",
          "name": "stdout",
          "text": [
            "           id   age  flight_distance  inflight_wifi_service  \\\n",
            "0       69571  30.0           2586.0                    2.0   \n",
            "2        8913  39.0            510.0                    NaN   \n",
            "3        7655  21.0            767.0                    4.0   \n",
            "4      100573  53.0            486.0                    NaN   \n",
            "6       98573  47.0           3221.0                    2.0   \n",
            "...       ...   ...              ...                    ...   \n",
            "12982   53119  54.0            565.0                    2.0   \n",
            "12983   35298  61.0            944.0                    NaN   \n",
            "12984  108028  44.0           1508.0                    NaN   \n",
            "12986   64469  21.0            469.0                    NaN   \n",
            "12987   35804  37.0            937.0                    1.0   \n",
            "\n",
            "       departure_arrival_time_convenient  ease_of_online_booking  \\\n",
            "0                                      2                       2   \n",
            "2                                      5                       5   \n",
            "3                                      0                       4   \n",
            "4                                      1                       1   \n",
            "6                                      2                       2   \n",
            "...                                  ...                     ...   \n",
            "12982                                  2                       2   \n",
            "12983                                  2                       2   \n",
            "12984                                  3                       3   \n",
            "12986                                  0                       4   \n",
            "12987                                  1                       1   \n",
            "\n",
            "       gate_location  food_and_drink  online_boarding  seat_comfort  ...  \\\n",
            "0                  4               2              4.0             4  ...   \n",
            "2                  1               4              5.0             4  ...   \n",
            "3                  3               4              4.0             4  ...   \n",
            "4                  1               5              4.0             4  ...   \n",
            "6                  2               5              5.0             5  ...   \n",
            "...              ...             ...              ...           ...  ...   \n",
            "12982              2               4              NaN             4  ...   \n",
            "12983              2               5              4.0             4  ...   \n",
            "12984              3               1              NaN             4  ...   \n",
            "12986              5               1              4.0             1  ...   \n",
            "12987              4               1              1.0             1  ...   \n",
            "\n",
            "       checkin_service  inflight_service  cleanliness  \\\n",
            "0                    4                 2            4   \n",
            "2                    5                 4            4   \n",
            "3                    3                 4            4   \n",
            "4                    3                 5            4   \n",
            "6                    3                 5            4   \n",
            "...                ...               ...          ...   \n",
            "12982                2                 2            4   \n",
            "12983                1                 3            3   \n",
            "12984                1                 2            2   \n",
            "12986                5                 5            1   \n",
            "12987                2                 3            1   \n",
            "\n",
            "       departure_delay_in_minutes  arrival_delay_in_minutes  gender_encoded  \\\n",
            "0                             0.0                       NaN             0.0   \n",
            "2                             NaN                       NaN             0.0   \n",
            "3                            15.0                       NaN             0.0   \n",
            "4                             0.0                       0.0             0.0   \n",
            "6                            34.0                       NaN             0.0   \n",
            "...                           ...                       ...             ...   \n",
            "12982                         6.0                       NaN             0.0   \n",
            "12983                        87.0                       NaN             0.0   \n",
            "12984                         1.0                       0.0             0.0   \n",
            "12986                         0.0                       NaN             1.0   \n",
            "12987                         0.0                       NaN             0.0   \n",
            "\n",
            "       customer_type_encoded  type_of_travel_encoded  travel_class_encoded  \\\n",
            "0                        0.0                     0.0                   3.0   \n",
            "2                        0.0                     0.0                   1.0   \n",
            "3                        0.0                     0.0                   1.0   \n",
            "4                        1.0                     0.0                   3.0   \n",
            "6                        1.0                     2.0                   1.0   \n",
            "...                      ...                     ...                   ...   \n",
            "12982                    1.0                     0.0                   0.0   \n",
            "12983                    1.0                     2.0                   0.0   \n",
            "12984                    1.0                     0.0                   1.0   \n",
            "12986                    0.0                     0.0                   0.0   \n",
            "12987                    0.0                     0.0                   1.0   \n",
            "\n",
            "       class_encoded  \n",
            "0                1.0  \n",
            "2                2.0  \n",
            "3                2.0  \n",
            "4                2.0  \n",
            "6                2.0  \n",
            "...              ...  \n",
            "12982            1.0  \n",
            "12983            1.0  \n",
            "12984            1.0  \n",
            "12986            2.0  \n",
            "12987            0.0  \n",
            "\n",
            "[10824 rows x 24 columns]\n"
          ]
        }
      ]
    },
    {
      "cell_type": "code",
      "source": [
        "# cat_variables = df[['gender', 'customer_type', 'type_of_travel', 'travel_class', 'class']]\n",
        "# cat_dummies = pd.get_dummies(cat_variables, drop_first=True)\n",
        "\n",
        "# df = df.drop(['gender', 'customer_type', 'type_of_travel', 'travel_class', 'class'], axis=1)\n",
        "# df = pd.concat([df, cat_dummies], axis=1)\n",
        "\n",
        "# from sklearn.preprocessing import MinMaxScaler\n",
        "# scaler = MinMaxScaler()\n",
        "# df = pd.DataFrame(scaler.fit_transform(df), columns = df.columns)"
      ],
      "metadata": {
        "id": "cy751qDLMP1G"
      },
      "execution_count": 175,
      "outputs": []
    },
    {
      "cell_type": "code",
      "source": [
        "# from sklearn.preprocessing import MinMaxScaler\n",
        "# # Corrected Sample DataFrame with varying lengths\n",
        "# data = {'gender': ['Male', 'Female', np.nan],\n",
        "#         'customer_type': ['Loyal Customer', 'disloyal Customer', np.nan],\n",
        "#         'type_of_travel': ['Business travel', 'Personal Travel', np.nan],\n",
        "#         'travel_class': ['Business', 'Eco', 'Eco Plus'],\n",
        "#         'class': ['satisfied', 'neutral', 'dissatisfied']}\n",
        "# df = pd.DataFrame(data)\n",
        "\n",
        "# # Convert categorical variables to dummy variables\n",
        "# cat_dummies = pd.get_dummies(df[['gender', 'customer_type', 'type_of_travel', 'travel_class', 'class']])\n",
        "\n",
        "# # Combine binary dummy variables for each category\n",
        "# df['gender_combined'] = cat_dummies[['gender_Male', 'gender_Female']].sum(axis=1)\n",
        "# df['customer_type_combined'] = cat_dummies[['customer_type_Loyal Customer', 'customer_type_disloyal Customer']].sum(axis=1)\n",
        "# df['type_of_travel_combined'] = cat_dummies[['type_of_travel_Business travel', 'type_of_travel_Personal Travel']].sum(axis=1)\n",
        "# df['travel_class_combined'] = cat_dummies[['travel_class_Business', 'travel_class_Eco', 'travel_class_Eco Plus']].sum(axis=1)\n",
        "# df['class_combined'] = cat_dummies[['class_satisfied', 'class_neutral', 'class_dissatisfied']].sum(axis=1)\n",
        "\n",
        "# # Drop the original categorical columns if needed\n",
        "# df = df.drop(['gender', 'customer_type', 'type_of_travel', 'travel_class', 'class'], axis=1)\n",
        "\n",
        "# # Normalize the remaining numerical columns\n",
        "# scaler = MinMaxScaler()\n",
        "# df[df.columns] = scaler.fit_transform(df)\n",
        "\n",
        "# print(df)"
      ],
      "metadata": {
        "id": "qKoNRER14mrL"
      },
      "execution_count": 179,
      "outputs": []
    },
    {
      "cell_type": "code",
      "source": [
        "# df_mean = df.fillna(df.mean())\n",
        "# df_mean.info()"
      ],
      "metadata": {
        "id": "cDhqCmihmtvC"
      },
      "execution_count": 1,
      "outputs": []
    },
    {
      "cell_type": "code",
      "source": [
        "# df_median = df.fillna(df.median())\n",
        "# df_median.info()"
      ],
      "metadata": {
        "id": "NSFsf1wvqdqD"
      },
      "execution_count": 2,
      "outputs": []
    },
    {
      "cell_type": "code",
      "source": [
        "imputer = KNNImputer(n_neighbors=5)\n",
        "df = pd.DataFrame(imputer.fit_transform(df),columns = df.columns)"
      ],
      "metadata": {
        "id": "3buqP6fuH4zA"
      },
      "execution_count": 335,
      "outputs": []
    },
    {
      "cell_type": "code",
      "source": [
        "print(df.head())"
      ],
      "metadata": {
        "colab": {
          "base_uri": "https://localhost:8080/"
        },
        "id": "6ZcOC-XYUvD3",
        "outputId": "cdd69f6e-0ebf-44f5-d4c7-b6e96f6d4b71"
      },
      "execution_count": 185,
      "outputs": [
        {
          "output_type": "stream",
          "name": "stdout",
          "text": [
            "         id   age  flight_distance  inflight_wifi_service  \\\n",
            "0   69571.0  30.0           2586.0                    2.0   \n",
            "1   19953.0  66.0            315.0                    2.4   \n",
            "2    8913.0  39.0            510.0                    3.4   \n",
            "3    7655.0  21.0            767.0                    4.0   \n",
            "4  100573.0  53.0            486.0                    2.2   \n",
            "\n",
            "   departure_arrival_time_convenient  ease_of_online_booking  gate_location  \\\n",
            "0                                2.0                     2.0            4.0   \n",
            "1                                4.0                     3.0            1.0   \n",
            "2                                5.0                     5.0            1.0   \n",
            "3                                0.0                     4.0            3.0   \n",
            "4                                1.0                     1.0            1.0   \n",
            "\n",
            "   food_and_drink  online_boarding  seat_comfort  ...  checkin_service  \\\n",
            "0             2.0              4.0           4.0  ...              4.0   \n",
            "1             5.0              2.2           5.0  ...              4.0   \n",
            "2             4.0              5.0           4.0  ...              5.0   \n",
            "3             4.0              4.0           4.0  ...              3.0   \n",
            "4             5.0              4.0           4.0  ...              3.0   \n",
            "\n",
            "   inflight_service  cleanliness  departure_delay_in_minutes  \\\n",
            "0               2.0          4.0                         0.0   \n",
            "1               4.0          4.0                         0.0   \n",
            "2               4.0          4.0                         0.0   \n",
            "3               4.0          4.0                        15.0   \n",
            "4               5.0          4.0                         0.0   \n",
            "\n",
            "   arrival_delay_in_minutes  class_encoded  gender_encoded  \\\n",
            "0                       0.0            1.0             0.0   \n",
            "1                      26.0            1.0             0.0   \n",
            "2                       0.0            2.0             0.0   \n",
            "3                       0.0            2.0             0.0   \n",
            "4                       0.0            2.0             0.0   \n",
            "\n",
            "   customer_type_encoded  type_of_travel_encoded  travel_class_encoded  \n",
            "0                    0.0                     0.0                   3.0  \n",
            "1                    1.0                     1.0                   0.0  \n",
            "2                    0.0                     0.0                   1.0  \n",
            "3                    0.0                     0.0                   1.0  \n",
            "4                    1.0                     0.0                   3.0  \n",
            "\n",
            "[5 rows x 24 columns]\n"
          ]
        }
      ]
    },
    {
      "cell_type": "markdown",
      "metadata": {
        "id": "usJHydYyyqFR"
      },
      "source": [
        "## Task 2.1 - ML Workflow to Critically Evaluate"
      ]
    },
    {
      "cell_type": "code",
      "execution_count": 235,
      "metadata": {
        "ExecuteTime": {
          "end_time": "2023-07-04T15:47:13.957881Z",
          "start_time": "2023-07-04T15:47:13.946606Z"
        },
        "id": "lgSw3RKdyqFR",
        "outputId": "8bb686da-6b4f-4363-ec65-e945369f3fde",
        "colab": {
          "base_uri": "https://localhost:8080/"
        }
      },
      "outputs": [
        {
          "output_type": "stream",
          "name": "stdout",
          "text": [
            "1    354\n",
            "2    261\n",
            "0     57\n",
            "Name: class, dtype: int64\n"
          ]
        }
      ],
      "source": [
        "# Dropping all rows with missing values\n",
        "df2 = df2.dropna()\n",
        "\n",
        "# Converting all non-numeric (object) features to numeric\n",
        "cat_columns = df2.select_dtypes(['object']).columns\n",
        "df2[cat_columns] = df2[cat_columns].apply(lambda x: x.astype('category')) # converting 'object' columns to 'category' type\n",
        "df2[cat_columns] = df2[cat_columns].apply(lambda x: x.cat.codes) # converting the 'category' columns to integer encoded values\n",
        "print(df2[\"class\"].value_counts())\n",
        "\n",
        "# Splits the Pandas DataFrame into a feature matrix (X) and class/label vector (y)\n",
        "X = df2.iloc[:,:len(df2.columns)-1]\n",
        "y = df2.iloc[:,len(df2.columns)-1]\n",
        "\n",
        "# Splitting dataset for hold-out validation\n",
        "X_train, X_test, y_train, y_test = train_test_split(X, # feature matrix\n",
        "                                                    y, # label vector\n",
        "                                                    test_size=0.2,\n",
        "                                                    random_state=1,\n",
        "                                                    stratify=None\n",
        "                                                   )"
      ]
    },
    {
      "cell_type": "code",
      "execution_count": 237,
      "metadata": {
        "ExecuteTime": {
          "end_time": "2023-07-04T15:47:13.975210Z",
          "start_time": "2023-07-04T15:47:13.958596Z"
        },
        "id": "sHmpZHEwyqFS",
        "outputId": "bf2fd348-359c-476e-cdeb-d40736a4a31d",
        "colab": {
          "base_uri": "https://localhost:8080/"
        }
      },
      "outputs": [
        {
          "output_type": "stream",
          "name": "stdout",
          "text": [
            "Accuracy: 54.074074074074076\n",
            "[[ 0 11  4]\n",
            " [ 0 52 13]\n",
            " [ 0 34 21]]\n"
          ]
        },
        {
          "output_type": "stream",
          "name": "stderr",
          "text": [
            "/usr/local/lib/python3.10/dist-packages/sklearn/linear_model/_logistic.py:458: ConvergenceWarning: lbfgs failed to converge (status=1):\n",
            "STOP: TOTAL NO. of ITERATIONS REACHED LIMIT.\n",
            "\n",
            "Increase the number of iterations (max_iter) or scale the data as shown in:\n",
            "    https://scikit-learn.org/stable/modules/preprocessing.html\n",
            "Please also refer to the documentation for alternative solver options:\n",
            "    https://scikit-learn.org/stable/modules/linear_model.html#logistic-regression\n",
            "  n_iter_i = _check_optimize_result(\n"
          ]
        }
      ],
      "source": [
        "# Creating and testing a Logistic Regression Model\n",
        "model = LogisticRegression()\n",
        "\n",
        "# Training the model\n",
        "model.fit(X_train, y_train)\n",
        "\n",
        "# Testing the model\n",
        "y_pred = model.predict(X_test)\n",
        "\n",
        "# Printing out performance of the model\n",
        "print(\"Accuracy: %s\" % (metrics.accuracy_score(y_test, y_pred)*100))\n",
        "print(metrics.confusion_matrix(y_test, y_pred))"
      ]
    },
    {
      "cell_type": "markdown",
      "metadata": {
        "id": "YyzQJ1aeyqFS"
      },
      "source": [
        "## Task 2.3 - Evaluation of Improved ML Workflow\n",
        "\n",
        "Add code for running your **improved** machine learning experiments below.\n"
      ]
    },
    {
      "cell_type": "code",
      "source": [
        "X = df.iloc[:,:len(df.columns)-1]\n",
        "y = df.iloc[:,len(df.columns)-1]"
      ],
      "metadata": {
        "id": "PtDzwGncJwLi"
      },
      "execution_count": 325,
      "outputs": []
    },
    {
      "cell_type": "code",
      "source": [
        "print(X.shape)\n",
        "print(y.shape)"
      ],
      "metadata": {
        "colab": {
          "base_uri": "https://localhost:8080/"
        },
        "id": "7FdlvSuL31H4",
        "outputId": "3811dd43-91ad-4a6f-b731-cf9e80ccf7cb"
      },
      "execution_count": 326,
      "outputs": [
        {
          "output_type": "stream",
          "name": "stdout",
          "text": [
            "(12471, 23)\n",
            "(12471,)\n"
          ]
        }
      ]
    },
    {
      "cell_type": "code",
      "source": [
        "# Instantiating model\n",
        "model = KNeighborsClassifier(n_neighbors=10)\n",
        "\n",
        "# Hold-out validation - default 80% training and 20% testing\n",
        "X_train, X_test, y_train, y_test = train_test_split(X, y, test_size=0.2, random_state=None)\n",
        "\n",
        "y_train_flat = y_train.values.ravel()\n",
        "\n",
        "# Training the model\n",
        "model.fit(X_train, y_train_flat)\n",
        "\n",
        "# Testing the model\n",
        "y_pred = model.predict(X_test)\n",
        "\n",
        "# Printing out confusion matrix and accuracy\n",
        "print(metrics.confusion_matrix(y_test, y_pred))\n",
        "print(\"\\nAccuracy (Testing):  %0.2f \" % (metrics.accuracy_score(y_test, y_pred)))"
      ],
      "metadata": {
        "colab": {
          "base_uri": "https://localhost:8080/"
        },
        "id": "Ok1NU7Q92Iib",
        "outputId": "c07a333a-bdaa-45c1-ac9c-275b91b88514"
      },
      "execution_count": 337,
      "outputs": [
        {
          "output_type": "stream",
          "name": "stdout",
          "text": [
            "[[  0 112  29]\n",
            " [  0 951 322]\n",
            " [  4 532 545]]\n",
            "\n",
            "Accuracy (Testing):  0.60 \n"
          ]
        }
      ]
    },
    {
      "cell_type": "code",
      "source": [
        "model = KNeighborsClassifier(n_neighbors=10)\n",
        "\n",
        "# cross-validation of the model\n",
        "scores = cross_val_score(model, X, y, cv=10)\n",
        "\n",
        "# Printing results\n",
        "print(\"Accuracy:  %0.2f (+/- %0.2f)\" % (scores.mean(), scores.std() * 2))"
      ],
      "metadata": {
        "colab": {
          "base_uri": "https://localhost:8080/"
        },
        "id": "CHfknbusNA-g",
        "outputId": "aafacafd-79a0-4d66-b31d-2cf10c7b8151"
      },
      "execution_count": 338,
      "outputs": [
        {
          "output_type": "stream",
          "name": "stdout",
          "text": [
            "Accuracy:  0.60 (+/- 0.02)\n"
          ]
        }
      ]
    },
    {
      "cell_type": "code",
      "source": [
        "# Visualising the Decision Tree\n",
        "def visualise_tree(model, feature_names, class_labels):\n",
        "    \"\"\"\n",
        "    A function to visualise a decision tree model. This requires graphviz to be installed.\n",
        "    :param model: the decision tree model\n",
        "    :param feature_list: a list of names for the features\n",
        "    :param class_labels: a list of names for the class labels\n",
        "    \"\"\"\n",
        "    graph = Source(tree.export_graphviz(model, out_file=None\n",
        "       , feature_names=feature_names, class_names=class_labels\n",
        "       , filled = True))\n",
        "    graph_svg = SVG(graph.pipe(format='svg'))\n",
        "    display(graph_svg)"
      ],
      "metadata": {
        "id": "SGYrAROwT9ZQ"
      },
      "execution_count": 300,
      "outputs": []
    },
    {
      "cell_type": "code",
      "source": [
        "# Instantiating model\n",
        "model = DecisionTreeClassifier(random_state=None,\n",
        "                               max_depth=9, # smaller or larger depth?\n",
        "                               criterion='entropy') # gini vs entropy?)\n",
        "\n",
        "# defining multiple metrics for scoring\n",
        "scoring = {\n",
        "    'accuracy': make_scorer(accuracy_score),\n",
        "    'prec_macro': make_scorer(precision_score, average='macro', zero_division=0),\n",
        "    'rec_macro': make_scorer(recall_score, average='macro', zero_division=0)\n",
        "}\n",
        "\n",
        "# cross-validation of the model\n",
        "scores = cross_validate(model, X, y, cv=10, scoring=scoring, return_train_score=True, return_estimator=True)\n",
        "\n",
        "# Printing results\n",
        "print(\"Accuracy:  %0.2f (+/- %0.2f)\" % (scores['test_accuracy'].mean(), scores['test_accuracy'].std() * 2))\n",
        "print(\"Precision: %0.2f (+/- %0.2f)\" % (scores['test_prec_macro'].mean(), scores['test_prec_macro'].std() * 2))\n",
        "print(\"Recall:    %0.2f (+/- %0.2f)\" % (scores['test_rec_macro'].mean(), scores['test_rec_macro'].std() * 2))"
      ],
      "metadata": {
        "colab": {
          "base_uri": "https://localhost:8080/"
        },
        "id": "KaPaYbTXER_r",
        "outputId": "cf666640-eba6-4293-b254-5ef60d288d26"
      },
      "execution_count": 339,
      "outputs": [
        {
          "output_type": "stream",
          "name": "stdout",
          "text": [
            "Accuracy:  0.83 (+/- 0.01)\n",
            "Precision: 0.60 (+/- 0.20)\n",
            "Recall:    0.58 (+/- 0.01)\n"
          ]
        }
      ]
    },
    {
      "cell_type": "code",
      "source": [
        "def report(results, rank_metric='score', n_top=3):\n",
        "    \"\"\"\n",
        "    Utility function to report best scores.\n",
        "    :param results: the cv_results_ data structure from the optimisation algorithm\n",
        "    :param rank_metric: name of the metric to report results for\n",
        "    :param n_top: the number of top results to report\n",
        "    \"\"\"\n",
        "    print(\"\\nModels ranked according to\", rank_metric)\n",
        "    for i in range(1, n_top + 1):\n",
        "        candidates = np.flatnonzero(results[\"rank_test_\" + rank_metric] == i)\n",
        "        for candidate in candidates:\n",
        "            print(\"Model with rank: {0}\".format(i))\n",
        "            print(\"Mean validation score: {0:.2f} (+/- {1:.2f})\".format(\n",
        "                  results[\"mean_test_\" + rank_metric][candidate],\n",
        "                  results[\"std_test_\" + rank_metric][candidate]*2))\n",
        "            print(\"Params: {0}\".format(results['params'][candidate]))\n",
        "            print(\"\")"
      ],
      "metadata": {
        "id": "DxpvPI82TxqR"
      },
      "execution_count": 295,
      "outputs": []
    },
    {
      "cell_type": "code",
      "source": [
        "# instantiating the model\n",
        "model = DecisionTreeClassifier()\n",
        "\n",
        "# defining parameter grid\n",
        "param_grid = {\"max_depth\": [2, 4, 6, 8, None],\n",
        "              \"max_features\": [2, 4, 6, 8, 10],\n",
        "              \"min_samples_split\": [2, 4, 6, 8, 10],\n",
        "              \"criterion\": [\"gini\", \"entropy\"],\n",
        "              \"splitter\": [\"best\", \"random\"]}\n",
        "\n",
        "# run grid search\n",
        "print(\"\\n> STARTING GRID SEARCH ...\")\n",
        "grid_search = GridSearchCV(model, param_grid=param_grid, cv=n_folds)\n",
        "\n",
        "start_time = time()\n",
        "grid_search.fit(X, y)\n",
        "end_time = time()\n",
        "\n",
        "print(\"> GRID SEARCH COMPLETE\")\n",
        "\n",
        "print(\"\\nGridSearchCV took %.2f seconds for %d candidate parameter settings.\"\n",
        "      % (end_time - start_time, len(grid_search.cv_results_['params'])))\n",
        "report(grid_search.cv_results_)"
      ],
      "metadata": {
        "colab": {
          "base_uri": "https://localhost:8080/"
        },
        "id": "nohipLH7U2Mj",
        "outputId": "8da19585-7a83-45ef-f542-2c77ac2e2a7a"
      },
      "execution_count": 340,
      "outputs": [
        {
          "output_type": "stream",
          "name": "stdout",
          "text": [
            "\n",
            "> STARTING GRID SEARCH ...\n",
            "> GRID SEARCH COMPLETE\n",
            "\n",
            "GridSearchCV took 112.34 seconds for 500 candidate parameter settings.\n",
            "\n",
            "Models ranked according to score\n",
            "Model with rank: 1\n",
            "Mean validation score: 0.82 (+/- 0.03)\n",
            "Params: {'criterion': 'gini', 'max_depth': 8, 'max_features': 10, 'min_samples_split': 8, 'splitter': 'best'}\n",
            "\n",
            "Model with rank: 2\n",
            "Mean validation score: 0.82 (+/- 0.02)\n",
            "Params: {'criterion': 'entropy', 'max_depth': 8, 'max_features': 10, 'min_samples_split': 10, 'splitter': 'best'}\n",
            "\n",
            "Model with rank: 3\n",
            "Mean validation score: 0.82 (+/- 0.02)\n",
            "Params: {'criterion': 'gini', 'max_depth': 8, 'max_features': 6, 'min_samples_split': 8, 'splitter': 'best'}\n",
            "\n"
          ]
        }
      ]
    },
    {
      "cell_type": "code",
      "source": [
        "# Instantiating model\n",
        "model = RandomForestClassifier(n_estimators=100)\n",
        "\n",
        "# Hold-out validation - default 80% training and 20% testing\n",
        "X_train, X_test, y_train, y_test = train_test_split(X, y, test_size=0.2, random_state=None)\n",
        "\n",
        "y_train_flat = y_train.values.ravel()\n",
        "\n",
        "# Training the model\n",
        "model.fit(X_train, y_train_flat)\n",
        "\n",
        "# Testing the model\n",
        "y_pred = model.predict(X_test)\n",
        "\n",
        "# Printing out confusion matrix and accuracy\n",
        "print(metrics.confusion_matrix(y_test, y_pred))\n",
        "print(\"\\nAccuracy (Testing):  %0.2f \" % (metrics.accuracy_score(y_test, y_pred)))"
      ],
      "metadata": {
        "colab": {
          "base_uri": "https://localhost:8080/"
        },
        "id": "o3Otzqm6FCEY",
        "outputId": "0b5ff695-9c23-4bee-ff85-fb55c3ecef0a"
      },
      "execution_count": 255,
      "outputs": [
        {
          "output_type": "stream",
          "name": "stdout",
          "text": [
            "[[   0  140    2]\n",
            " [   0 1221   65]\n",
            " [   0  120  947]]\n",
            "\n",
            "Accuracy (Testing):  0.87 \n"
          ]
        }
      ]
    },
    {
      "cell_type": "code",
      "source": [
        "# Assuming X is a Pandas DataFrame\n",
        "X = X.values if isinstance(X, pd.DataFrame) else X\n",
        "\n",
        "# Instantiating model\n",
        "model = RandomForestClassifier(n_estimators=100)\n",
        "\n",
        "# arrays for storing performance metrics; accuracy, precision, and recall\n",
        "acc_list = np.array([])\n",
        "prec_list = np.array([])\n",
        "rec_list = np.array([])\n",
        "\n",
        "# arrays for storing the test data + predictions\n",
        "# this will allow us to do a confusion matrix based on all folds in the end\n",
        "y_test_aggregated = np.array([])\n",
        "y_pred_aggregated = np.array([])\n",
        "\n",
        "# creating/setting up the folds\n",
        "cv = StratifiedKFold(n_splits=10)\n",
        "cv.get_n_splits(X, y)\n",
        "\n",
        "# cross-validation of the model\n",
        "for i, (train_index, test_index) in enumerate(cv.split(X, y)):\n",
        "    # Printing out progress (which fold it is)\n",
        "    print(f\">>> Fold {i}..\")\n",
        "\n",
        "    # Getting data for each fold (as the above returns the indices of the data points selected for training and testing)\n",
        "    X_train, y_train, X_test, y_test = X[train_index], y[train_index], X[test_index], y[test_index]\n",
        "\n",
        "    # Training the model\n",
        "    model.fit(X_train, y_train)\n",
        "\n",
        "    # Testing the model\n",
        "    y_pred = model.predict(X_test)\n",
        "\n",
        "    # Appending performance metrics to arrays created above\n",
        "    acc_list = np.append(acc_list, accuracy_score(y_test, y_pred))\n",
        "    prec_list = np.append(prec_list, precision_score(y_test, y_pred, average='macro', zero_division=0))\n",
        "    rec_list = np.append(rec_list, recall_score(y_test, y_pred, average='macro'))\n",
        "\n",
        "    # Appending the test data and predictions to do an aggregated confusion matrix at the end\n",
        "    y_test_aggregated = np.append(y_test_aggregated, y_test)\n",
        "    y_pred_aggregated = np.append(y_pred_aggregated, y_pred)\n",
        "\n",
        "    # Printing out confusion matrix and accuracy\n",
        "    print(\"\\nAccuracy (Testing):  %0.2f \\n\" % (accuracy_score(y_test, y_pred)))\n",
        "    print(confusion_matrix(y_test, y_pred))\n",
        "    print()\n",
        "\n",
        "# Printing results\n",
        "print(\"\\n>>> Average performance stats (from all folds)\\n\")\n",
        "print(\"Accuracy:  %0.2f (+/- %0.2f)\" % (acc_list.mean(), acc_list.std() * 2))\n",
        "print(\"Precision: %0.2f (+/- %0.2f)\" % (prec_list.mean(), prec_list.std() * 2))\n",
        "print(\"Recall:    %0.2f (+/- %0.2f)\" % (rec_list.mean(), rec_list.std() * 2))\n",
        "print()\n",
        "print(confusion_matrix(y_test_aggregated, y_pred_aggregated))\n"
      ],
      "metadata": {
        "colab": {
          "base_uri": "https://localhost:8080/"
        },
        "id": "uW0K5iRQNTxw",
        "outputId": "b71612fd-9eb2-4063-90ad-b03c95fb1d8c"
      },
      "execution_count": 265,
      "outputs": [
        {
          "output_type": "stream",
          "name": "stdout",
          "text": [
            ">>> Fold 0..\n",
            "\n",
            "Accuracy (Testing):  0.86 \n",
            "\n",
            "[[  0  64   7]\n",
            " [  0 595  39]\n",
            " [  0  64 479]]\n",
            "\n",
            ">>> Fold 1..\n",
            "\n",
            "Accuracy (Testing):  0.87 \n",
            "\n",
            "[[  0  63   7]\n",
            " [  0 607  27]\n",
            " [  0  68 475]]\n",
            "\n",
            ">>> Fold 2..\n",
            "\n",
            "Accuracy (Testing):  0.88 \n",
            "\n",
            "[[  0  67   3]\n",
            " [  0 602  32]\n",
            " [  0  45 498]]\n",
            "\n",
            ">>> Fold 3..\n",
            "\n",
            "Accuracy (Testing):  0.88 \n",
            "\n",
            "[[  0  70   0]\n",
            " [  0 604  30]\n",
            " [  0  51 492]]\n",
            "\n",
            ">>> Fold 4..\n",
            "\n",
            "Accuracy (Testing):  0.87 \n",
            "\n",
            "[[  0  68   2]\n",
            " [  0 600  34]\n",
            " [  0  61 482]]\n",
            "\n",
            ">>> Fold 5..\n",
            "\n",
            "Accuracy (Testing):  0.87 \n",
            "\n",
            "[[  0  66   4]\n",
            " [  0 607  27]\n",
            " [  0  67 476]]\n",
            "\n",
            ">>> Fold 6..\n",
            "\n",
            "Accuracy (Testing):  0.88 \n",
            "\n",
            "[[  0  67   4]\n",
            " [  0 601  32]\n",
            " [  0  47 496]]\n",
            "\n",
            ">>> Fold 7..\n",
            "\n",
            "Accuracy (Testing):  0.86 \n",
            "\n",
            "[[  0  69   2]\n",
            " [  0 595  38]\n",
            " [  0  71 472]]\n",
            "\n",
            ">>> Fold 8..\n",
            "\n",
            "Accuracy (Testing):  0.87 \n",
            "\n",
            "[[  0  66   5]\n",
            " [  0 605  28]\n",
            " [  0  64 479]]\n",
            "\n",
            ">>> Fold 9..\n",
            "\n",
            "Accuracy (Testing):  0.87 \n",
            "\n",
            "[[  0  68   3]\n",
            " [  0 602  31]\n",
            " [  0  65 478]]\n",
            "\n",
            "\n",
            ">>> Average performance stats (from all folds)\n",
            "\n",
            "Accuracy:  0.87 (+/- 0.02)\n",
            "Precision: 0.59 (+/- 0.01)\n",
            "Recall:    0.61 (+/- 0.01)\n",
            "\n",
            "[[   0  668   37]\n",
            " [   0 6018  318]\n",
            " [   0  603 4827]]\n"
          ]
        }
      ]
    },
    {
      "cell_type": "code",
      "source": [
        "from sklearn.preprocessing import Normalizer\n",
        "\n",
        "normalizer = Normalizer()\n",
        "normalizer.fit(X)\n",
        "X_normalised = normalizer.transform(X)\n",
        "# X_normalised"
      ],
      "metadata": {
        "id": "rowVwmg_aDZn"
      },
      "execution_count": 306,
      "outputs": []
    },
    {
      "cell_type": "code",
      "source": [
        "scaler = StandardScaler()\n",
        "scaler.fit(X)\n",
        "X_scaled = scaler.transform(X)"
      ],
      "metadata": {
        "id": "C29e3QvyjJ6y"
      },
      "execution_count": 313,
      "outputs": []
    },
    {
      "cell_type": "code",
      "source": [
        "epochs = 5000\n",
        "model = MLPClassifier(hidden_layer_sizes=(50), max_iter=epochs)\n",
        "\n",
        "scores = cross_validate(model, X_normalised, y, cv=5)\n",
        "print(\"Accuracy:          %0.2f (+/- %0.2f)\" % (scores['test_score'].mean(), scores['test_score'].std() * 2))\n",
        "print(\"Training time (s): %0.2f (+/- %0.2f)\" % (scores['fit_time'].mean(), scores['fit_time'].std() * 2))\n",
        "print(\"Testing time (s):  %0.2f (+/- %0.2f)\" % (scores['score_time'].mean(), scores['score_time'].std() * 2))"
      ],
      "metadata": {
        "colab": {
          "base_uri": "https://localhost:8080/"
        },
        "id": "verhJd6okYO8",
        "outputId": "aa40cf0d-b4ae-4ef2-a63f-ad09dc48f97d"
      },
      "execution_count": 316,
      "outputs": [
        {
          "output_type": "stream",
          "name": "stdout",
          "text": [
            "Accuracy:          0.58 (+/- 0.02)\n",
            "Training time (s): 11.15 (+/- 8.55)\n",
            "Testing time (s):  0.01 (+/- 0.01)\n"
          ]
        }
      ]
    },
    {
      "cell_type": "code",
      "source": [
        "epochs = 5000\n",
        "model = MLPClassifier(hidden_layer_sizes=(30), max_iter=epochs)\n",
        "\n",
        "scores = cross_validate(model, X_scaled, y, cv=5)\n",
        "print(\"Accuracy:          %0.2f (+/- %0.2f)\" % (scores['test_score'].mean(), scores['test_score'].std() * 2))\n",
        "print(\"Training time (s): %0.2f (+/- %0.2f)\" % (scores['fit_time'].mean(), scores['fit_time'].std() * 2))\n",
        "print(\"Testing time (s):  %0.2f (+/- %0.2f)\" % (scores['score_time'].mean(), scores['score_time'].std() * 2))"
      ],
      "metadata": {
        "colab": {
          "base_uri": "https://localhost:8080/"
        },
        "id": "F_INbZrFjT9_",
        "outputId": "0bbdeab0-f2cc-41be-c00e-4b0c2d5486b0"
      },
      "execution_count": 314,
      "outputs": [
        {
          "output_type": "stream",
          "name": "stdout",
          "text": [
            "Accuracy:          0.84 (+/- 0.00)\n",
            "Training time (s): 14.72 (+/- 8.62)\n",
            "Testing time (s):  0.01 (+/- 0.01)\n"
          ]
        }
      ]
    },
    {
      "cell_type": "code",
      "source": [
        "from sklearn.model_selection import train_test_split\n",
        "from sklearn.neural_network import MLPClassifier\n",
        "from sklearn import metrics\n",
        "X_train, X_test, y_train, y_test = train_test_split(X_normalised, y, test_size=0.4, random_state=None, stratify=y)\n",
        "\n",
        "model = MLPClassifier(hidden_layer_sizes=(10))\n",
        "model = model.fit(X_train,y_train)\n",
        "y_pred = model.predict(X_test)\n",
        "\n",
        "print(\"Accuracy\", metrics.accuracy_score(y_test, y_pred))\n",
        "print(\"\\n\", metrics.confusion_matrix(y_test, y_pred))\n",
        "print(\"\\n\", metrics.classification_report(y_test, y_pred))"
      ],
      "metadata": {
        "colab": {
          "base_uri": "https://localhost:8080/"
        },
        "id": "xv_CpNdOZ4zK",
        "outputId": "6c72ff99-ef9a-4b4c-9760-36abefc2f1ca"
      },
      "execution_count": 310,
      "outputs": [
        {
          "output_type": "stream",
          "name": "stdout",
          "text": [
            "Accuracy 0.5628382441371016\n",
            "\n",
            " [[   0  199   83]\n",
            " [   0 1870  665]\n",
            " [   0 1234  938]]\n",
            "\n",
            "               precision    recall  f1-score   support\n",
            "\n",
            "         0.0       0.00      0.00      0.00       282\n",
            "         1.0       0.57      0.74      0.64      2535\n",
            "         2.0       0.56      0.43      0.49      2172\n",
            "\n",
            "    accuracy                           0.56      4989\n",
            "   macro avg       0.37      0.39      0.38      4989\n",
            "weighted avg       0.53      0.56      0.54      4989\n",
            "\n"
          ]
        },
        {
          "output_type": "stream",
          "name": "stderr",
          "text": [
            "/usr/local/lib/python3.10/dist-packages/sklearn/neural_network/_multilayer_perceptron.py:686: ConvergenceWarning: Stochastic Optimizer: Maximum iterations (200) reached and the optimization hasn't converged yet.\n",
            "  warnings.warn(\n",
            "/usr/local/lib/python3.10/dist-packages/sklearn/metrics/_classification.py:1344: UndefinedMetricWarning: Precision and F-score are ill-defined and being set to 0.0 in labels with no predicted samples. Use `zero_division` parameter to control this behavior.\n",
            "  _warn_prf(average, modifier, msg_start, len(result))\n",
            "/usr/local/lib/python3.10/dist-packages/sklearn/metrics/_classification.py:1344: UndefinedMetricWarning: Precision and F-score are ill-defined and being set to 0.0 in labels with no predicted samples. Use `zero_division` parameter to control this behavior.\n",
            "  _warn_prf(average, modifier, msg_start, len(result))\n",
            "/usr/local/lib/python3.10/dist-packages/sklearn/metrics/_classification.py:1344: UndefinedMetricWarning: Precision and F-score are ill-defined and being set to 0.0 in labels with no predicted samples. Use `zero_division` parameter to control this behavior.\n",
            "  _warn_prf(average, modifier, msg_start, len(result))\n"
          ]
        }
      ]
    },
    {
      "cell_type": "code",
      "source": [],
      "metadata": {
        "id": "nhmNWPjqhpiH"
      },
      "execution_count": null,
      "outputs": []
    }
  ],
  "metadata": {
    "kernelspec": {
      "display_name": "Python 3 (ipykernel)",
      "language": "python",
      "name": "python3"
    },
    "language_info": {
      "codemirror_mode": {
        "name": "ipython",
        "version": 3
      },
      "file_extension": ".py",
      "mimetype": "text/x-python",
      "name": "python",
      "nbconvert_exporter": "python",
      "pygments_lexer": "ipython3",
      "version": "3.11.1"
    },
    "toc": {
      "base_numbering": 1,
      "nav_menu": {},
      "number_sections": true,
      "sideBar": true,
      "skip_h1_title": false,
      "title_cell": "Table of Contents",
      "title_sidebar": "Contents",
      "toc_cell": false,
      "toc_position": {},
      "toc_section_display": true,
      "toc_window_display": true
    },
    "varInspector": {
      "cols": {
        "lenName": 16,
        "lenType": 16,
        "lenVar": 40
      },
      "kernels_config": {
        "python": {
          "delete_cmd_postfix": "",
          "delete_cmd_prefix": "del ",
          "library": "var_list.py",
          "varRefreshCmd": "print(var_dic_list())"
        },
        "r": {
          "delete_cmd_postfix": ") ",
          "delete_cmd_prefix": "rm(",
          "library": "var_list.r",
          "varRefreshCmd": "cat(var_dic_list()) "
        }
      },
      "types_to_exclude": [
        "module",
        "function",
        "builtin_function_or_method",
        "instance",
        "_Feature"
      ],
      "window_display": false
    },
    "colab": {
      "provenance": []
    }
  },
  "nbformat": 4,
  "nbformat_minor": 0
}